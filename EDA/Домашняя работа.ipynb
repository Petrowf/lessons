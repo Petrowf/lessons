{
 "cells": [
  {
   "cell_type": "markdown",
   "id": "5d9823b2",
   "metadata": {
    "id": "5d9823b2"
   },
   "source": [
    "# Домашнее задание"
   ]
  },
  {
   "cell_type": "markdown",
   "id": "6a691f81",
   "metadata": {
    "id": "6a691f81"
   },
   "source": [
    "1. Загрузить файл titanic.csv"
   ]
  },
  {
   "cell_type": "markdown",
   "id": "80c705ad",
   "metadata": {
    "id": "80c705ad"
   },
   "source": [
    "2. Вывести основную информацию о наборе данных"
   ]
  },
  {
   "cell_type": "markdown",
   "id": "e3225f4b",
   "metadata": {
    "id": "e3225f4b"
   },
   "source": [
    "3. Преобразовать столбец Gender в числовые значения – 0 и 1 для Male и Female соответственно."
   ]
  },
  {
   "cell_type": "markdown",
   "id": "82ececda",
   "metadata": {
    "id": "82ececda"
   },
   "source": [
    "4. Удалить строки, содержащие хотя бы одно значение NaN."
   ]
  },
  {
   "cell_type": "markdown",
   "id": "76c0f37d",
   "metadata": {
    "id": "76c0f37d"
   },
   "source": [
    "5. Визуализировать с помощью графиков значения полученного датафрейма."
   ]
  },
  {
   "cell_type": "markdown",
   "id": "7727f386",
   "metadata": {
    "id": "7727f386"
   },
   "source": [
    "6. Обработать выбросы"
   ]
  },
  {
   "cell_type": "markdown",
   "id": "72478cdd",
   "metadata": {
    "id": "72478cdd"
   },
   "source": [
    "7. Перевести категориальные признаки в числовые"
   ]
  },
  {
   "cell_type": "markdown",
   "id": "jZWXJBaGeVf5",
   "metadata": {
    "id": "jZWXJBaGeVf5"
   },
   "source": [
    "8. Сохранить полученный набор данных в файл \"prepared_titanic.csv\"\n",
    "\n"
   ]
  },
  {
   "cell_type": "markdown",
   "id": "J4XCV258emgF",
   "metadata": {
    "id": "J4XCV258emgF"
   },
   "source": [
    "9. Нормализовать данные"
   ]
  },
  {
   "cell_type": "markdown",
   "id": "hpfD4JRbeqHp",
   "metadata": {
    "id": "hpfD4JRbeqHp"
   },
   "source": [
    "10. Разделить набор данных на тренировочную и тестовую части"
   ]
  }
 ],
 "metadata": {
  "colab": {
   "provenance": []
  },
  "kernelspec": {
   "display_name": "Python 3 (ipykernel)",
   "language": "python",
   "name": "python3"
  },
  "language_info": {
   "codemirror_mode": {
    "name": "ipython",
    "version": 3
   },
   "file_extension": ".py",
   "mimetype": "text/x-python",
   "name": "python",
   "nbconvert_exporter": "python",
   "pygments_lexer": "ipython3",
   "version": "3.10.8"
  }
 },
 "nbformat": 4,
 "nbformat_minor": 5
}
