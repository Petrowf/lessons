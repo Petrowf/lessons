{
 "cells": [
  {
   "cell_type": "markdown",
   "id": "2cc674b1",
   "metadata": {},
   "source": [
    "# ООП"
   ]
  },
  {
   "cell_type": "markdown",
   "id": "919e3bdd",
   "metadata": {},
   "source": [
    "### ООП - объектно ориентированное программирование. т.е. программирование ориентированное на работу с объектами. \n",
    "#### Объекты это экземпляр класса.\n",
    "<img src =\"classcar.png\"/>"
   ]
  },
  {
   "cell_type": "markdown",
   "id": "9c44826b",
   "metadata": {},
   "source": [
    "### Объявление класса:"
   ]
  },
  {
   "cell_type": "code",
   "execution_count": 4,
   "id": "d93f6776",
   "metadata": {},
   "outputs": [],
   "source": [
    "class ClassName:\n",
    "    \n",
    "    class_fields = \" *Значения* \"\n",
    "    \n",
    "    def class_method(self):\n",
    "        print(\"Метод класса\")"
   ]
  },
  {
   "cell_type": "code",
   "execution_count": 5,
   "id": "b2677097-8641-4b3d-85f2-d04186a2455b",
   "metadata": {},
   "outputs": [
    {
     "name": "stdout",
     "output_type": "stream",
     "text": [
      " *Значения* \n",
      "Метод класса\n"
     ]
    }
   ],
   "source": [
    "class_object = ClassName()\n",
    "print(class_object.class_fields)\n",
    "class_object.class_method()"
   ]
  },
  {
   "cell_type": "markdown",
   "id": "12fe68bd",
   "metadata": {},
   "source": [
    "# Поля это:\n",
    "<img src=\"caratributes.jpg\" width='500'/>\n",
    "\n",
    "# Методы это:\n",
    "\n",
    "<img src=\"methods.jpg\" width='500' higth ='500'/>"
   ]
  },
  {
   "cell_type": "markdown",
   "id": "eb34c170",
   "metadata": {},
   "source": [
    "#### Создадим тестовый класс человека:"
   ]
  },
  {
   "cell_type": "code",
   "execution_count": 7,
   "id": "cdb32bf6",
   "metadata": {},
   "outputs": [],
   "source": [
    "class Person:\n",
    "    pass"
   ]
  },
  {
   "cell_type": "code",
   "execution_count": 9,
   "id": "6d441928",
   "metadata": {},
   "outputs": [],
   "source": [
    "user = Person()"
   ]
  },
  {
   "cell_type": "code",
   "execution_count": 10,
   "id": "545661e6",
   "metadata": {},
   "outputs": [],
   "source": [
    "user.surname = \"Petrov\""
   ]
  },
  {
   "cell_type": "code",
   "execution_count": 12,
   "id": "9ea4cdee",
   "metadata": {},
   "outputs": [
    {
     "data": {
      "text/plain": [
       "'Petrov'"
      ]
     },
     "execution_count": 12,
     "metadata": {},
     "output_type": "execute_result"
    }
   ],
   "source": [
    "user.surname"
   ]
  },
  {
   "cell_type": "markdown",
   "id": "01829cd5",
   "metadata": {},
   "source": [
    "### Магические методы"
   ]
  },
  {
   "cell_type": "markdown",
   "id": "431a0a0b",
   "metadata": {},
   "source": [
    "__init__ - функция которая срабатывает при создании объекта. Конструктор класса\n",
    "__str__  - вызывается если подать объект в print\n",
    "__del__ - Срабатывает при удалении объекта\n",
    "__eq__(self, other)\n",
    "Определяет поведение оператора равенства, ==.\n",
    "\n",
    "__ne__(self, other)\n",
    "Определяет поведение оператора неравенства, !=.\n",
    "\n",
    "__lt__(self, other)\n",
    "Определяет поведение оператора меньше, <.\n",
    "\n",
    "__gt__(self, other)\n",
    "Определяет поведение оператора больше, >.\n",
    "\n",
    "__le__(self, other)\n",
    "Определяет поведение оператора меньше или равно, <=.\n",
    "\n",
    "__ge__(self, other)\n",
    "Определяет поведение оператора больше или равно, >=."
   ]
  },
  {
   "cell_type": "code",
   "execution_count": 13,
   "id": "ad0a477c",
   "metadata": {},
   "outputs": [],
   "source": [
    "class Person:\n",
    "    \n",
    "    def __init__(self, name):\n",
    "        self.firstname = name  "
   ]
  },
  {
   "cell_type": "code",
   "execution_count": null,
   "id": "59082bd1",
   "metadata": {},
   "outputs": [],
   "source": []
  },
  {
   "cell_type": "markdown",
   "id": "bab56556",
   "metadata": {},
   "source": [
    "#### Пример:"
   ]
  },
  {
   "cell_type": "code",
   "execution_count": 16,
   "id": "063224eb",
   "metadata": {},
   "outputs": [
    {
     "name": "stdout",
     "output_type": "stream",
     "text": [
      "Вася\n"
     ]
    }
   ],
   "source": [
    "user = Person(\"Вася\")\n",
    "print(user.firstname)"
   ]
  },
  {
   "cell_type": "code",
   "execution_count": 17,
   "id": "0161257e",
   "metadata": {},
   "outputs": [],
   "source": [
    "class Person:\n",
    "    \n",
    "    def __init__(self, name):\n",
    "        self.firstname = name \n",
    "    \n",
    "    def say_something(self):\n",
    "        print(\"Hello\")"
   ]
  },
  {
   "cell_type": "code",
   "execution_count": 19,
   "id": "fcdc2b49",
   "metadata": {},
   "outputs": [
    {
     "name": "stdout",
     "output_type": "stream",
     "text": [
      "Hello\n"
     ]
    }
   ],
   "source": [
    "user = Person(\"Вася\")\n",
    "user.say_something()"
   ]
  },
  {
   "cell_type": "markdown",
   "id": "daeb4ad9",
   "metadata": {},
   "source": [
    "Далее определен метод **say()**. Он принимает два параметра: **self** и message. И для второго параметра - message при вызове метода необходимо передать значение.\n",
    "\n",
    "**Self**\n",
    "Через ключевое слово self можно обращаться внутри класса к функциональности текущего объекта:"
   ]
  },
  {
   "cell_type": "markdown",
   "id": "85acfcb7",
   "metadata": {},
   "source": [
    "<span style=\"color:blue\">self</span>.атрибут        - обращение к атрибуту\n",
    "\n",
    "<span style=\"color:blue\">self</span>.метод          - обращение к методу"
   ]
  },
  {
   "cell_type": "code",
   "execution_count": 20,
   "id": "063f1f2c",
   "metadata": {},
   "outputs": [],
   "source": [
    "class Person:\n",
    "    \n",
    "    def __init__(self, name):\n",
    "        self.firstname = name \n",
    "    \n",
    "    def say_something(self):\n",
    "        print(\"Hello\")\n",
    "\n",
    "    def say(self, message):\n",
    "        print(message)\n",
    " "
   ]
  },
  {
   "cell_type": "code",
   "execution_count": 21,
   "id": "e2acd52d",
   "metadata": {},
   "outputs": [
    {
     "name": "stdout",
     "output_type": "stream",
     "text": [
      "something\n"
     ]
    }
   ],
   "source": [
    "user = Person(\"Вася\")\n",
    "user.say(\"something\")"
   ]
  },
  {
   "cell_type": "markdown",
   "id": "93c55428",
   "metadata": {},
   "source": [
    "Теперь немного изменим метод **say_something**, будем ссылатся на метод **say**. "
   ]
  },
  {
   "cell_type": "code",
   "execution_count": 22,
   "id": "db0ec4a3",
   "metadata": {},
   "outputs": [],
   "source": [
    "class Person:\n",
    "    \n",
    "    def __init__(self, name):\n",
    "        self.firstname = name \n",
    "    \n",
    "    def say_something(self):\n",
    "        say(\"Hello\")\n",
    "\n",
    "    def say(self, message):\n",
    "        print(message)"
   ]
  },
  {
   "cell_type": "markdown",
   "id": "e3d56191",
   "metadata": {},
   "source": [
    "Но теперь при вызове **say_something** нам выдаст <span style=\"color:red\">ошибку</span>, давайте проверим:"
   ]
  },
  {
   "cell_type": "code",
   "execution_count": 23,
   "id": "d2e2a667",
   "metadata": {},
   "outputs": [
    {
     "ename": "NameError",
     "evalue": "name 'say' is not defined",
     "output_type": "error",
     "traceback": [
      "\u001b[1;31m---------------------------------------------------------------------------\u001b[0m",
      "\u001b[1;31mNameError\u001b[0m                                 Traceback (most recent call last)",
      "Cell \u001b[1;32mIn[23], line 2\u001b[0m\n\u001b[0;32m      1\u001b[0m user \u001b[38;5;241m=\u001b[39m Person(\u001b[38;5;124m\"\u001b[39m\u001b[38;5;124mВася\u001b[39m\u001b[38;5;124m\"\u001b[39m)\n\u001b[1;32m----> 2\u001b[0m \u001b[43muser\u001b[49m\u001b[38;5;241;43m.\u001b[39;49m\u001b[43msay_something\u001b[49m\u001b[43m(\u001b[49m\u001b[43m)\u001b[49m\n",
      "Cell \u001b[1;32mIn[22], line 7\u001b[0m, in \u001b[0;36mPerson.say_something\u001b[1;34m(self)\u001b[0m\n\u001b[0;32m      6\u001b[0m \u001b[38;5;28;01mdef\u001b[39;00m\u001b[38;5;250m \u001b[39m\u001b[38;5;21msay_something\u001b[39m(\u001b[38;5;28mself\u001b[39m):\n\u001b[1;32m----> 7\u001b[0m     \u001b[43msay\u001b[49m(\u001b[38;5;124m\"\u001b[39m\u001b[38;5;124mHello\u001b[39m\u001b[38;5;124m\"\u001b[39m)\n",
      "\u001b[1;31mNameError\u001b[0m: name 'say' is not defined"
     ]
    }
   ],
   "source": [
    "user = Person(\"Вася\")\n",
    "user.say_something()"
   ]
  },
  {
   "cell_type": "markdown",
   "id": "1fee2f03",
   "metadata": {},
   "source": [
    "Метод **say** не найден потому что мы не сказали, что это именно <span style=\"color:blue\">ЭТОТ</span> метот say который определен в классе, не указав **self**"
   ]
  },
  {
   "cell_type": "code",
   "execution_count": 24,
   "id": "b333c2d3",
   "metadata": {},
   "outputs": [],
   "source": [
    "class Person:\n",
    "    \n",
    "    def __init__(self, name):\n",
    "        self.firstname = name \n",
    "    \n",
    "    def say_something(self):\n",
    "        self.say(\"Hello\")\n",
    "\n",
    "    def say(self, message):\n",
    "        print(message)\n",
    "\n",
    "user = Person(\"Ваня\")"
   ]
  },
  {
   "cell_type": "code",
   "execution_count": 25,
   "id": "ff548d7b",
   "metadata": {},
   "outputs": [
    {
     "name": "stdout",
     "output_type": "stream",
     "text": [
      "Hello\n"
     ]
    }
   ],
   "source": [
    "user = Person(\"Вася\")\n",
    "user.say_something()"
   ]
  },
  {
   "cell_type": "code",
   "execution_count": 26,
   "id": "f1303b41",
   "metadata": {},
   "outputs": [],
   "source": [
    "class Person:\n",
    "    \n",
    "    def __init__(self, name):\n",
    "        self.firstname = name\n",
    "        self.exp = 0 # Не обязательно вводить атрибуты для конструктора, некоторые могут изначально задавтся.\n",
    "    \n",
    "    def say_something(self):\n",
    "        self.say(\"Hello\")\n",
    "\n",
    "    def say(self, message):\n",
    "        print(message)\n",
    "\n",
    "user_02 = Person(\"Стас\")"
   ]
  },
  {
   "cell_type": "markdown",
   "id": "dc067cbf",
   "metadata": {},
   "source": [
    "Давайте создадим метод чтобы выдавать информацию о объекте:"
   ]
  },
  {
   "cell_type": "code",
   "execution_count": 29,
   "id": "33dc91b7",
   "metadata": {},
   "outputs": [],
   "source": [
    "class Person:\n",
    "    \n",
    "    def __init__(self, f_name, l_name):\n",
    "        self.firstname = f_name\n",
    "        self.lastname = l_name\n",
    "        self.exp = 0 # Не обязательно вводить атрибуты для конструктора, некоторые могут изначально задавтся.\n",
    "    \n",
    "    def __str__(self):\n",
    "        return f\"Имя Фамилия: {self.firstname} {self.lastname}  \\nОпыт: {self.exp}\"\n",
    "    \n",
    "    def say_something(self):\n",
    "        self.say(\"Hello\")\n",
    "\n",
    "    def say(self, message):\n",
    "        print(message)\n",
    "\n",
    "user_02 = Person(\"Стасик\", \"Михалков\")"
   ]
  },
  {
   "cell_type": "code",
   "execution_count": 30,
   "id": "b34e0666",
   "metadata": {},
   "outputs": [
    {
     "name": "stdout",
     "output_type": "stream",
     "text": [
      "Имя Фамилия: Стасик Михалков  \n",
      "Опыт: 0\n"
     ]
    }
   ],
   "source": [
    "print(user_02)"
   ]
  },
  {
   "cell_type": "markdown",
   "id": "309a9ae2",
   "metadata": {},
   "source": [
    "# Основные принципы ООП"
   ]
  },
  {
   "cell_type": "markdown",
   "id": "d1b40d26",
   "metadata": {},
   "source": [
    "## Инкапсуляция"
   ]
  },
  {
   "cell_type": "markdown",
   "id": "faf7186c",
   "metadata": {},
   "source": [
    "Кто знает как работает это устройство?)))"
   ]
  },
  {
   "cell_type": "markdown",
   "id": "a63ede4c",
   "metadata": {},
   "source": [
    "<img src='printer.jpg' width='500' higth ='500'/>"
   ]
  },
  {
   "cell_type": "markdown",
   "id": "a58d1bb4",
   "metadata": {},
   "source": [
    "<span style=\"color:green\">Так и должно быть. </span> Главное, чтобы он сделал свою раюоту правильно.\n",
    "В этом и заключается инкапсуляция. Инженеры разработали его так, чтобы пользователи использовали простое средство управления и не разбирались с физикой. Инкапсуляция - принцип сокрытия от пользователя того, что ему не нужно"
   ]
  },
  {
   "cell_type": "code",
   "execution_count": 35,
   "id": "f626886e-2222-4be6-b402-f4d65b73b8f0",
   "metadata": {},
   "outputs": [],
   "source": [
    "class Printer:\n",
    "    def __init__(self):\n",
    "        self.__U = \"220 V\"\n",
    "    def print(self, text):\n",
    "        print(text)"
   ]
  },
  {
   "cell_type": "code",
   "execution_count": 42,
   "id": "15ad5158-192d-4f6d-b397-4d30c46638ee",
   "metadata": {},
   "outputs": [
    {
     "ename": "AttributeError",
     "evalue": "'Printer' object has no attribute '__U'",
     "output_type": "error",
     "traceback": [
      "\u001b[1;31m---------------------------------------------------------------------------\u001b[0m",
      "\u001b[1;31mAttributeError\u001b[0m                            Traceback (most recent call last)",
      "Cell \u001b[1;32mIn[42], line 2\u001b[0m\n\u001b[0;32m      1\u001b[0m printer \u001b[38;5;241m=\u001b[39m Printer()\n\u001b[1;32m----> 2\u001b[0m \u001b[38;5;28mprint\u001b[39m(\u001b[43mprinter\u001b[49m\u001b[38;5;241;43m.\u001b[39;49m\u001b[43m__U\u001b[49m)\n",
      "\u001b[1;31mAttributeError\u001b[0m: 'Printer' object has no attribute '__U'"
     ]
    }
   ],
   "source": [
    "printer = Printer()\n",
    "print(printer.__U)"
   ]
  },
  {
   "cell_type": "code",
   "execution_count": 44,
   "id": "4190e64d-03b2-4c7e-9f0b-7b0d8969c461",
   "metadata": {},
   "outputs": [
    {
     "name": "stdout",
     "output_type": "stream",
     "text": [
      "220 V\n"
     ]
    }
   ],
   "source": [
    "print(printer._Printer__U) #Костыль"
   ]
  },
  {
   "cell_type": "markdown",
   "id": "7c04f9ee",
   "metadata": {},
   "source": [
    "## Наследование"
   ]
  },
  {
   "cell_type": "markdown",
   "id": "8301826e",
   "metadata": {},
   "source": [
    "Благодаря наследованию мы можем создать новый класс, который не прийдется переписывать и добавить совсм немного изменений."
   ]
  },
  {
   "cell_type": "code",
   "execution_count": 49,
   "id": "ad91fdc5-9174-465c-923b-a9e1343766d1",
   "metadata": {},
   "outputs": [],
   "source": [
    "class Animal:\n",
    "    def __init__(self, name, age, weight, color):\n",
    "        self.name = name\n",
    "        self.age = age\n",
    "        self. weight = weight\n",
    "        self.color = color\n",
    "        \n",
    "    def say(self):\n",
    "        print(\"jivotnoe\")\n",
    "\n",
    "\n",
    "class Dog(Animal): # Наследуем Animal\n",
    "    def __init__(self, name, age, weight, color, breed):\n",
    "        super().__init__(name, age, weight, color) #super() - обращение к родительскому классу\n",
    "        self.breed = breed\n",
    "\n",
    "    def __str__(self):\n",
    "        return f\"Порода: {self.breed} Имя: {self.name} Возраст: {self.age} Вес: {self.age} Цвет: {self.color}\""
   ]
  },
  {
   "cell_type": "code",
   "execution_count": 50,
   "id": "c7e6d449-8289-4e55-a49f-63815100be07",
   "metadata": {},
   "outputs": [
    {
     "name": "stdout",
     "output_type": "stream",
     "text": [
      "Порода: Ovcharka Имя: Sharik Возраст: 5 Вес: 5 Цвет: Brown\n",
      "jivotnoe\n"
     ]
    }
   ],
   "source": [
    "dog = Dog(\"Sharik\", 5, 10, \"Brown\", \"Ovcharka\")\n",
    "print(dog)\n",
    "dog.say()"
   ]
  },
  {
   "cell_type": "markdown",
   "id": "623eb61e",
   "metadata": {},
   "source": [
    "# Type hinting"
   ]
  },
  {
   "cell_type": "code",
   "execution_count": 52,
   "id": "962964a9-5666-4956-8478-07bdd51fa7e5",
   "metadata": {},
   "outputs": [],
   "source": [
    "class Animal:\n",
    "    def __init__(self, name: str, age: float, weight: float, color: str) -> Animal:\n",
    "        self.name: str = name\n",
    "        self.age: float = age\n",
    "        self.weight: float = weight\n",
    "        self.color:str = color\n",
    "        \n",
    "    def say(self) -> None:\n",
    "        print(\"jivotnoe\")\n",
    "\n",
    "\n",
    "class Dog(Animal): # Наследуем Animal\n",
    "    def __init__(self, name: str, age: float, weight: float, color: str, breed: str) -> Dog:\n",
    "        super().__init__(name, age, weight, color) #super() - обращение к родительскому классу\n",
    "        self.breed: str = breed\n",
    "\n",
    "    def __str__(self) -> str:\n",
    "        return f\"Порода: {self.breed} Имя: {self.name} Возраст: {self.age} Вес: {self.age} Цвет: {self.color}\""
   ]
  },
  {
   "cell_type": "code",
   "execution_count": 53,
   "id": "55f784d9-4f46-457d-ae0f-6aedb20ed0ec",
   "metadata": {},
   "outputs": [
    {
     "name": "stdout",
     "output_type": "stream",
     "text": [
      "Порода: Ovcharka Имя: 150 Возраст: 5 Вес: 5 Цвет: Brown\n",
      "jivotnoe\n"
     ]
    }
   ],
   "source": [
    "dog = Dog(150, 5, 10, \"Brown\", \"Ovcharka\")\n",
    "print(dog)\n",
    "dog.say()"
   ]
  }
 ],
 "metadata": {
  "kernelspec": {
   "display_name": "Python 3 (ipykernel)",
   "language": "python",
   "name": "python3"
  },
  "language_info": {
   "codemirror_mode": {
    "name": "ipython",
    "version": 3
   },
   "file_extension": ".py",
   "mimetype": "text/x-python",
   "name": "python",
   "nbconvert_exporter": "python",
   "pygments_lexer": "ipython3",
   "version": "3.10.8"
  }
 },
 "nbformat": 4,
 "nbformat_minor": 5
}
