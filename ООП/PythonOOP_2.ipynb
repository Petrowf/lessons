{
 "cells": [
  {
   "cell_type": "code",
   "execution_count": 23,
   "id": "98d87386",
   "metadata": {},
   "outputs": [],
   "source": [
    "a = '_'"
   ]
  },
  {
   "cell_type": "markdown",
   "id": "a2eee1ca",
   "metadata": {},
   "source": [
    "**@staticmethod** используется в том случае, когда ваш метод не имеет никакого доступа к тому, что представляет собой класс или объект класса. Он не принимает никаких обязательных аргументов, по типу объекта класса или самого класса.\n",
    "В первом Вашем методе передается параметр **self**, который может быть использован далее в коде(хоть вы его и не используете), в варианте с **@staticmethod** обратиться к классу либо же объекту не выйдет никак. Вызывается он так же, как и обычный метод."
   ]
  },
  {
   "cell_type": "markdown",
   "id": "7754d307",
   "metadata": {},
   "source": [
    "## Применение Инкапсуляции:"
   ]
  },
  {
   "cell_type": "markdown",
   "id": "50ab74b8",
   "metadata": {},
   "source": [
    "Представим у нас есть класс Личности тот самый Person"
   ]
  },
  {
   "cell_type": "code",
   "execution_count": 1,
   "id": "a73e3bdf",
   "metadata": {},
   "outputs": [],
   "source": [
    "class Person:\n",
    "    def __init__(self, name):\n",
    "        self.name = name    # устанавливаем имя\n",
    "        self.age = 1        # устанавливаем возраст\n",
    "                 \n",
    "    def display_info(self):\n",
    "        print(f\"Имя: {self.name}\\tВозраст: {self.age}\")\n",
    "         \n",
    " \n"
   ]
  },
  {
   "cell_type": "markdown",
   "id": "1864becb",
   "metadata": {},
   "source": [
    "Мы создаем объект **Пользователя**.  В дальнейшем изменяем атрибуты объекта - имя и возвраст:"
   ]
  },
  {
   "cell_type": "code",
   "execution_count": 2,
   "id": "2858ff45",
   "metadata": {},
   "outputs": [
    {
     "name": "stdout",
     "output_type": "stream",
     "text": [
      "Имя: Ваня\tВозраст: 1\n",
      "Имя: Shrec\tВозраст: -129\n"
     ]
    }
   ],
   "source": [
    "User = Person(\"Ваня\")\n",
    "User.display_info()  \n",
    "User.name = \"Shrec\"       # изменяем атрибут name\n",
    "User.age = -129                  # изменяем атрибут age\n",
    "User.display_info()              # Имя: Человек-паук     Возраст: -129"
   ]
  },
  {
   "cell_type": "markdown",
   "id": "b4ee509d",
   "metadata": {},
   "source": [
    "Поэтому мы изменяем процесс ввода значений, путем добавления новых методов: "
   ]
  },
  {
   "cell_type": "code",
   "execution_count": 24,
   "id": "cbebf902",
   "metadata": {},
   "outputs": [],
   "source": [
    "class Person:\n",
    "    def __init__(self, name, age = 10):\n",
    "        self.__name = name  # устанавливаем имя\n",
    "        self.__age = age  # устанавливаем возраст\n",
    " \n",
    "    def set_age(self, age):  # Setter\n",
    "        if 1 < age < 110:\n",
    "            self.__age = age\n",
    "        else:\n",
    "            print(\"Недопустимый возраст\")\n",
    " \n",
    "    def get_age(self):     # Getter\n",
    "        return self.__age\n",
    "   \n",
    "    def get_name(self):    # Getter\n",
    "        return self.__name\n",
    " \n",
    "    def display_info(self):\n",
    "        print(f\"{a*9}\\nИмя: {self.__name}\\nВозраст: {self.__age}\\n{a*9}\\n\")\n",
    " \n"
   ]
  },
  {
   "cell_type": "code",
   "execution_count": 17,
   "id": "a01d9cc5",
   "metadata": {},
   "outputs": [],
   "source": [
    "user = Person('чел', 20)"
   ]
  },
  {
   "cell_type": "code",
   "execution_count": 21,
   "id": "10260748",
   "metadata": {},
   "outputs": [
    {
     "data": {
      "text/plain": [
       "{'_Person__name': 'чел', '_Person__age': 20}"
      ]
     },
     "execution_count": 21,
     "metadata": {},
     "output_type": "execute_result"
    }
   ],
   "source": [
    "user.get_age()\n",
    "\n",
    "\n"
   ]
  },
  {
   "cell_type": "code",
   "execution_count": 25,
   "id": "740a8552",
   "metadata": {
    "scrolled": true
   },
   "outputs": [
    {
     "name": "stdout",
     "output_type": "stream",
     "text": [
      "_________\n",
      "Имя: Ваня\n",
      "Возраст: 10\n",
      "_________\n",
      "\n",
      "Недопустимый возраст\n",
      "_________\n",
      "Имя: Ваня\n",
      "Возраст: 25\n",
      "_________\n",
      "\n"
     ]
    }
   ],
   "source": [
    "tom = Person(\"Ваня\")\n",
    "tom.display_info()  # Имя: Tom  Возраст: 1\n",
    "tom.set_age(-3486)  # Подаем недопустимый возраст\n",
    "tom.set_age(25)\n",
    "tom.display_info()  # Имя: Tom  Возраст: 25"
   ]
  },
  {
   "cell_type": "markdown",
   "id": "64e8d568",
   "metadata": {},
   "source": [
    "**Важный момент:** можно заметить, что переменные self.name и self.age были переименованы в **self.__name** и **self.__age**. Это означет что данные переменные имеют уровень доступа **Private**."
   ]
  },
  {
   "cell_type": "markdown",
   "id": "5c21ef03",
   "metadata": {},
   "source": [
    "### Уровни доступа: \n"
   ]
  },
  {
   "cell_type": "code",
   "execution_count": 25,
   "id": "ded3cbc3",
   "metadata": {},
   "outputs": [],
   "source": [
    "attribute = 10   # Public - публичный класс, означает что разрешено любое изменение / взамодействие\n",
    "_attribute = 20  # Обозначение того что переменная используется внутри функции / объекта\n",
    "__attribute = 30 # Private - Изменять или получать доступ может только сам объект"
   ]
  },
  {
   "cell_type": "markdown",
   "id": "ad401849",
   "metadata": {},
   "source": [
    "Декоратор-свойство **<span style=\"color:blue\">@property</span>** позволяет работать с закрытыми переменными и определить один метод гетеера и сеттера, чтобы не писать отдельную функцию под каждый атрибут во время вызова.\n",
    "Декоратор-свойство **<span style=\"color:blue\">@attribute.setter</span>** позволяет определить сеттер:"
   ]
  },
  {
   "cell_type": "code",
   "execution_count": 26,
   "id": "790e29c7",
   "metadata": {},
   "outputs": [
    {
     "ename": "SyntaxError",
     "evalue": "f-string: expecting '}' (1105461077.py, line 22)",
     "output_type": "error",
     "traceback": [
      "\u001b[1;36m  Input \u001b[1;32mIn [26]\u001b[1;36m\u001b[0m\n\u001b[1;33m    print(f\"{\"__\"*9}\\nИмя: {self.__name}\\nВозраст: {self.__age}\\n{\"__\"*9}\\n\")\u001b[0m\n\u001b[1;37m              ^\u001b[0m\n\u001b[1;31mSyntaxError\u001b[0m\u001b[1;31m:\u001b[0m f-string: expecting '}'\n"
     ]
    }
   ],
   "source": [
    "class Person:\n",
    "    def __init__(self, name):\n",
    "        self.__name = name  # устанавливаем имя\n",
    "        self.__age = 1  # устанавливаем возраст\n",
    " \n",
    "    @property\n",
    "    def age(self):     # Getter\n",
    "        return print(f'Возраст личности: {self.__age}\\n')\n",
    "    \n",
    "    @age.setter\n",
    "    def age(self, age):  # Setter\n",
    "        if 1 < age < 110:\n",
    "            self.__age = age\n",
    "        else:\n",
    "            print(\"Недопустимый возраст\")\n",
    "    \n",
    "    @property\n",
    "    def name(self):    # Getter\n",
    "        return print(f'Имя личности: {self.__name}\\n')\n",
    " \n",
    "    def display_info(self):\n",
    "        print(f\"{a*9}\\nИмя: {self.__name}\\nВозраст: {self.__age}\\n{a*9}\\n\")\n",
    " "
   ]
  },
  {
   "cell_type": "code",
   "execution_count": 34,
   "id": "c94adbc4",
   "metadata": {},
   "outputs": [
    {
     "name": "stdout",
     "output_type": "stream",
     "text": [
      "Имя личности: Ваня\n",
      "\n",
      "Возраст личности: 1\n",
      "\n",
      "Возраст личности: 5\n",
      "\n"
     ]
    }
   ],
   "source": [
    "User_1 = Person(\"Ваня\")\n",
    "User_1.name\n",
    "User_1.age\n",
    "User_1.age = 5\n",
    "User_1.age"
   ]
  },
  {
   "cell_type": "markdown",
   "id": "a85616ce",
   "metadata": {},
   "source": [
    "Если вы хотите сделать так, чтобы мы могли во время инициализации изменять параметры или чтобы они были установлены по умолчанию, просто в параметры которые подаются на вход в функцию пишети таааак:"
   ]
  },
  {
   "cell_type": "code",
   "execution_count": 13,
   "id": "e850fb9a",
   "metadata": {},
   "outputs": [],
   "source": [
    "def __init__(self, name, last_name = None, age = 10):\n",
    "        self.__name = name  # устанавливаем имя\n",
    "        self.__last_name = last_name\n",
    "        self.__age = age  # устанавливаем возраст"
   ]
  },
  {
   "cell_type": "code",
   "execution_count": 18,
   "id": "44e9b779",
   "metadata": {},
   "outputs": [
    {
     "data": {
      "text/plain": [
       "{'_Person__name': 'Ваня', '_Person__age': 1}"
      ]
     },
     "execution_count": 18,
     "metadata": {},
     "output_type": "execute_result"
    }
   ],
   "source": [
    "User_1.__dict__ # То что содержится в нашем объекте"
   ]
  },
  {
   "cell_type": "code",
   "execution_count": 10,
   "id": "3a1addeb",
   "metadata": {},
   "outputs": [],
   "source": [
    "class Worker(Person):\n",
    "     def work():\n",
    "            print(\"Working\")"
   ]
  },
  {
   "cell_type": "code",
   "execution_count": 17,
   "id": "1d42ffcc",
   "metadata": {},
   "outputs": [
    {
     "data": {
      "text/plain": [
       "1"
      ]
     },
     "execution_count": 17,
     "metadata": {},
     "output_type": "execute_result"
    }
   ],
   "source": [
    "User_1 = Worker(\"Ваня\")\n",
    "User_1.get_age()"
   ]
  },
  {
   "cell_type": "markdown",
   "id": "d6196e40",
   "metadata": {},
   "source": [
    "# Наследование"
   ]
  },
  {
   "cell_type": "markdown",
   "id": "b4281626",
   "metadata": {},
   "source": [
    "**Наследование** позволяет создавать новый класс на основе уже существующего класса. Наряду с инкапсуляцией **наследование** является одним из краеугольных камней объектно-ориентированного программирования.\n",
    "\n",
    "Ключевыми понятиями **наследования** являются **подкласс** и **суперкласс**. **Подкласс** наследует от **суперкласса** все публичные атрибуты и методы. **Суперкласс** еще называется базовым (base class) или родительским (parent class), а **подкласс** - производным (derived class) или дочерним (child class).\n",
    "\n",
    "Синтаксис для наследования классов выглядит следующим образом:"
   ]
  },
  {
   "cell_type": "code",
   "execution_count": 38,
   "id": "45f5e292",
   "metadata": {},
   "outputs": [],
   "source": [
    "class суперкласс:\n",
    "    pass\n",
    "class подкласс(суперкласс):\n",
    "    def методы_подкласса():\n",
    "        pass"
   ]
  },
  {
   "cell_type": "markdown",
   "id": "11cd4b4e",
   "metadata": {},
   "source": [
    "Например у нас есть суперкласс личности (**<span style=\"color:blue\">Person</span>**) и у нас есть подкласс рабочего (**<span style=\"color:blue\">Worker</span>**):"
   ]
  },
  {
   "cell_type": "code",
   "execution_count": 33,
   "id": "2e5aaa12",
   "metadata": {},
   "outputs": [],
   "source": [
    "class Person:\n",
    "    \n",
    "    def __init__(self, name = \"Костя\"):\n",
    "        self.__name = name  # устанавливаем имя\n",
    "        self.__age = 10  # устанавливаем возраст\n",
    " \n",
    "    def get_age(self):     # Getter\n",
    "        return print(f'Возраст личности: {self.__age}\\n')\n",
    "    \n",
    "    def set_age(self, age):  # Setter\n",
    "        if 1 < age < 110:\n",
    "            self.__age = age\n",
    "        else:\n",
    "            print(\"Недопустимый возраст\")\n",
    "    \n",
    "    def set_name(self, name):\n",
    "        self.__name=name\n",
    "        \n",
    "    def get_name(self):\n",
    "        return self.__name\n",
    "    \n",
    "    def display_info(self):\n",
    "        print(f\"{a*9}\\nИмя: {self.__name}\\nВозраст: {self.__age}\\n{a*9}\\n\")\n",
    " \n",
    "\n",
    "class Worker(Person):\n",
    "    \n",
    "    def __init__(self, name = 'Почему?', salary = 10000, post = 'Интерн'):\n",
    "        super().__init__(name)\n",
    "        self.__salary = salary\n",
    "        self.__post = post\n",
    "    \n",
    "    \n",
    "    def work(self):\n",
    "        print(f\"Работает {self.get_name()}\")"
   ]
  },
  {
   "cell_type": "code",
   "execution_count": 34,
   "id": "6d15a622",
   "metadata": {},
   "outputs": [
    {
     "name": "stdout",
     "output_type": "stream",
     "text": [
      "Работает Почему?\n"
     ]
    }
   ],
   "source": [
    "User_2 = Worker()\n",
    "\n",
    "User_2.work()\n",
    "\n"
   ]
  },
  {
   "cell_type": "code",
   "execution_count": null,
   "id": "5ca2c9ea",
   "metadata": {},
   "outputs": [],
   "source": []
  },
  {
   "cell_type": "code",
   "execution_count": 13,
   "id": "f0e84509",
   "metadata": {},
   "outputs": [
    {
     "data": {
      "text/plain": [
       "{'_Person__name': 'Почему?',\n",
       " '_Person__age': 10,\n",
       " '_Worker__salary': 10000,\n",
       " '_Worker__post': 'Интерн'}"
      ]
     },
     "execution_count": 13,
     "metadata": {},
     "output_type": "execute_result"
    }
   ],
   "source": [
    "User_2.__dict__"
   ]
  },
  {
   "cell_type": "code",
   "execution_count": 12,
   "id": "9bfce7cd",
   "metadata": {},
   "outputs": [
    {
     "ename": "TypeError",
     "evalue": "Bot.lalala() takes 0 positional arguments but 1 was given",
     "output_type": "error",
     "traceback": [
      "\u001b[1;31m---------------------------------------------------------------------------\u001b[0m",
      "\u001b[1;31mTypeError\u001b[0m                                 Traceback (most recent call last)",
      "Input \u001b[1;32mIn [12]\u001b[0m, in \u001b[0;36m<cell line: 8>\u001b[1;34m()\u001b[0m\n\u001b[0;32m      5\u001b[0m     \u001b[38;5;28;01mdef\u001b[39;00m \u001b[38;5;21mlalala\u001b[39m():\n\u001b[0;32m      6\u001b[0m         \u001b[38;5;28mprint\u001b[39m(\u001b[38;5;124m\"\u001b[39m\u001b[38;5;124mРаботает lalala\u001b[39m\u001b[38;5;124m\"\u001b[39m)\n\u001b[0;32m      8\u001b[0m \u001b[38;5;129;43m@Bot\u001b[39;49m\u001b[38;5;241;43m.\u001b[39;49m\u001b[43mlalala\u001b[49m\n\u001b[1;32m----> 9\u001b[0m \u001b[38;5;28;43;01mdef\u001b[39;49;00m\u001b[43m \u001b[49m\u001b[38;5;21;43masd\u001b[39;49m\u001b[43m(\u001b[49m\u001b[43m)\u001b[49m\u001b[43m:\u001b[49m\n\u001b[0;32m     10\u001b[0m \u001b[43m    \u001b[49m\u001b[38;5;28;43mprint\u001b[39;49m\u001b[43m(\u001b[49m\u001b[38;5;124;43m\"\u001b[39;49m\u001b[38;5;124;43mРаботает asd\u001b[39;49m\u001b[38;5;124;43m\"\u001b[39;49m\u001b[43m)\u001b[49m\n",
      "\u001b[1;31mTypeError\u001b[0m: Bot.lalala() takes 0 positional arguments but 1 was given"
     ]
    }
   ],
   "source": [
    "# Переопределение метода для того чтобы не переписывать его внутри класса, а получить тот функционал который тебе нужен\n",
    "\n",
    "class Bot:\n",
    "    \n",
    "    def lalala():\n",
    "        print(\"Работает lalala\")\n",
    "\n",
    "@Bot.lalala\n",
    "def asd():\n",
    "    print(\"Работает asd\")"
   ]
  },
  {
   "cell_type": "code",
   "execution_count": 9,
   "id": "c0b20d80",
   "metadata": {},
   "outputs": [],
   "source": [
    "a = Bot()\n"
   ]
  },
  {
   "cell_type": "code",
   "execution_count": 10,
   "id": "aae63637",
   "metadata": {},
   "outputs": [
    {
     "name": "stdout",
     "output_type": "stream",
     "text": [
      "Работает lalala\n"
     ]
    }
   ],
   "source": [
    "a.lalala()"
   ]
  },
  {
   "cell_type": "code",
   "execution_count": null,
   "id": "d680c03e",
   "metadata": {},
   "outputs": [],
   "source": []
  }
 ],
 "metadata": {
  "kernelspec": {
   "display_name": "Python 3 (ipykernel)",
   "language": "python",
   "name": "python3"
  },
  "language_info": {
   "codemirror_mode": {
    "name": "ipython",
    "version": 3
   },
   "file_extension": ".py",
   "mimetype": "text/x-python",
   "name": "python",
   "nbconvert_exporter": "python",
   "pygments_lexer": "ipython3",
   "version": "3.10.8"
  }
 },
 "nbformat": 4,
 "nbformat_minor": 5
}
