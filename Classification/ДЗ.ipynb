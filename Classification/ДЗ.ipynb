{
 "cells": [
  {
   "cell_type": "markdown",
   "id": "d56a6b0b",
   "metadata": {
    "id": "d56a6b0b"
   },
   "source": [
    "# Домашнее задание"
   ]
  },
  {
   "cell_type": "markdown",
   "id": "70fe32db",
   "metadata": {
    "id": "70fe32db"
   },
   "source": [
    "**1. Загрузить файл 'telecom_churn.csv'.**"
   ]
  },
  {
   "cell_type": "markdown",
   "id": "b7a97a5a",
   "metadata": {
    "id": "b7a97a5a"
   },
   "source": [
    "**2. Проверить данные на наличие пропусков и выбросов. Обработать пропуски и выбросы.**"
   ]
  },
  {
   "cell_type": "markdown",
   "id": "9e4fe2b5",
   "metadata": {
    "id": "9e4fe2b5"
   },
   "source": [
    "**3. Выполнить кодирование категориальных переменных.**"
   ]
  },
  {
   "cell_type": "markdown",
   "id": "a7099885",
   "metadata": {
    "id": "a7099885"
   },
   "source": [
    "**4. Выполнить масштабирование признаков.**"
   ]
  },
  {
   "cell_type": "markdown",
   "id": "251971ff",
   "metadata": {
    "id": "251971ff"
   },
   "source": [
    "**5. Построить модели k-ближайших соседей, Дерево решений, SVM**"
   ]
  },
  {
   "cell_type": "markdown",
   "id": "fcb67088",
   "metadata": {
    "id": "fcb67088"
   },
   "source": [
    "a. Обучить модель и вывести на экран значения метрик."
   ]
  },
  {
   "cell_type": "markdown",
   "id": "3e78094f",
   "metadata": {
    "id": "3e78094f"
   },
   "source": [
    "b. Подобрать значение параметров модели по кросс-валидации, используя GridSearchCV."
   ]
  },
  {
   "cell_type": "markdown",
   "id": "66900c65",
   "metadata": {
    "id": "66900c65"
   },
   "source": [
    "**6. Сравнить полученные результаты по метрикам accuracy, precision, recall, f1-score.**"
   ]
  },
  {
   "cell_type": "markdown",
   "id": "637f84f0",
   "metadata": {
    "id": "637f84f0"
   },
   "source": [
    "**7. Выделить наилучшую модель.**"
   ]
  },
  {
   "cell_type": "markdown",
   "id": "810d17bd",
   "metadata": {
    "id": "810d17bd"
   },
   "source": [
    "**8. Визуализировать результаты с помощью ConfusionMatrix.**"
   ]
  }
 ],
 "metadata": {
  "colab": {
   "provenance": []
  },
  "kernelspec": {
   "display_name": "Python 3 (ipykernel)",
   "language": "python",
   "name": "python3"
  },
  "language_info": {
   "codemirror_mode": {
    "name": "ipython",
    "version": 3
   },
   "file_extension": ".py",
   "mimetype": "text/x-python",
   "name": "python",
   "nbconvert_exporter": "python",
   "pygments_lexer": "ipython3",
   "version": "3.10.8"
  }
 },
 "nbformat": 4,
 "nbformat_minor": 5
}
