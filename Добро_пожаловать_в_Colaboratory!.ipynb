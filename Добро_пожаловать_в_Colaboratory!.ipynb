{
 "cells": [
  {
   "cell_type": "markdown",
   "metadata": {
    "id": "Wf5KrEb6vrkR"
   },
   "source": [
    "<div class=\"markdown-google-sans\">\n",
    "  <h1>Добро пожаловать в Colab!</h1>\n",
    "</div>\n",
    "\n"
   ]
  },
  {
   "cell_type": "markdown",
   "metadata": {
    "id": "5fCEDCU_qrC0"
   },
   "source": [
    "<div class=\"markdown-google-sans\">\n",
    "  <h2>Что такое Colab?</h2>\n",
    "</div>\n",
    "\n",
    "Colaboratory, или просто Colab, позволяет писать и выполнять код Python в браузере. При этом:\n",
    "- не требуется никакой настройки;\n",
    "- бесплатный доступ к графическим процессорам;\n",
    "- предоставлять доступ к документам другим людям очень просто.\n",
    "\n",
    "Это отличное решение для <strong>студентов</strong>, <strong>специалистов по обработке данных</strong> и <strong>исследователей в области искусственного интеллекта</strong>."
   ]
  },
  {
   "cell_type": "markdown",
   "metadata": {
    "id": "JyG45Qk3qQLS"
   },
   "source": [
    "# Работа с ячейками\n",
    "Блокнот представляет собой список ячеек. Ячейки содержат либо пояснительный текст, либо исполняемый код и его выходные данные. Щелкните ячейку, чтобы выделить ее."
   ]
  },
  {
   "cell_type": "markdown",
   "metadata": {
    "id": "KR921S_OQSHG"
   },
   "source": [
    "\n",
    "Ниже приведена **ячейка с кодом**. Как только на кнопке панели инструментов появится надпись \"Connected\" (\"ПОДКЛЮЧЕНО\"), щелкните ячейку, чтобы выбрать ее, и выполните содержимое следующими способами:\n",
    "\n",
    "* Нажмите на **кнопку play** с левого края ячейки;\n",
    "* Нажмите **Shift+Enter** чтобы запустить выбранную ячейку;\n",
    "\n"
   ]
  },
  {
   "cell_type": "code",
   "execution_count": 1,
   "metadata": {
    "cellView": "both",
    "colab": {
     "base_uri": "https://localhost:8080/"
    },
    "executionInfo": {
     "elapsed": 495,
     "status": "ok",
     "timestamp": 1728649089240,
     "user": {
      "displayName": "Роман Петров",
      "userId": "10023081595083809317"
     },
     "user_tz": -420
    },
    "id": "WUtu4316QSHL",
    "outputId": "9bb5d5b6-4507-43ec-f614-136dab295978"
   },
   "outputs": [
    {
     "data": {
      "text/plain": [
       "10"
      ]
     },
     "execution_count": 1,
     "metadata": {},
     "output_type": "execute_result"
    }
   ],
   "source": [
    "a = 10\n",
    "a"
   ]
  },
  {
   "cell_type": "markdown",
   "metadata": {
    "id": "Id6tDF1HQSHD"
   },
   "source": [
    "## Текстовые ячейки\n",
    "Это **текстовая ячейка**. Вы можете **дважды щелкнуть**, чтобы отредактировать эту ячейку. Текстовые ячейки используют синтаксис markdown. Чтобы узнать больше, ознакомьтесь с нашим [руководством markdown](/notebooks/markdown_guide.ipynb).\n",
    "\n",
    "Вы также можете добавить математические ячейки используя [LaTeX](http://www.latex-project.org/). Просто поместите оператор в пару знаков **\\$**. Например `$\\sqrt{3x-1}+(1+x)^2$` становится $\\sqrt{3x-1}+(1+x)^2.$\n"
   ]
  },
  {
   "cell_type": "markdown",
   "metadata": {
    "id": "7bqjkGKwQSHW"
   },
   "source": [
    "## Добавление и перемещение ячеек\n",
    "Вы можете добавлять новые ячейки с помощью кнопок **+ КОД** и **+ ТЕКСТ**, которые отображаются при наведении курсора мыши между ячейками. Эти кнопки также находятся на панели инструментов над блокнотом, где их можно использовать для добавления ячейки под текущей выбранной ячейкой.\n",
    "\n",
    "Вы можете переместить ячейку, выделив ее и нажав **Ячейкой вверх** или **Ячейкой вниз** на верхней панели инструментов.\n",
    "\n",
    "Последовательные ячейки можно выделить с помощью \"выделения лассо\" путем перетаскивания извне одной ячейки и через группу.  Несмежные ячейки можно выделить одновременно, щелкнув по одной, а затем удерживая нажатой клавишу Ctrl при щелчке по другой.  Аналогично, при использовании Shift вместо Ctrl будут выделены все промежуточные ячейки."
   ]
  },
  {
   "cell_type": "markdown",
   "metadata": {
    "id": "GOwlZRXEQSHZ"
   },
   "source": [
    "## Python\n",
    "\n",
    "Colaboratory построена поверх [Jupyter Notebook](https://jupyter.org/). Ниже приведены несколько примеров предоставляемых удобных функций."
   ]
  },
  {
   "cell_type": "markdown",
   "metadata": {
    "id": "RVuqWUXPQSHa"
   },
   "source": [
    "Длительно выполняющиеся процессы python могут быть прерваны. Запустите следующую ячейку и выберите **Время выполнения -> Прервать выполнение** (*горячая клавиша: Cmd / Ctrl-M I*), чтобы остановить выполнение."
   ]
  },
  {
   "cell_type": "code",
   "execution_count": 2,
   "metadata": {
    "cellView": "both",
    "colab": {
     "base_uri": "https://localhost:8080/",
     "height": 211
    },
    "executionInfo": {
     "elapsed": 19315,
     "status": "error",
     "timestamp": 1728649224243,
     "user": {
      "displayName": "Роман Петров",
      "userId": "10023081595083809317"
     },
     "user_tz": -420
    },
    "id": "d-S-3nYLQSHb",
    "outputId": "6f835d96-1efd-46e5-d5f5-aae63c281813"
   },
   "outputs": [
    {
     "name": "stdout",
     "output_type": "stream",
     "text": [
      "Sleeping\n"
     ]
    },
    {
     "ename": "KeyboardInterrupt",
     "evalue": "",
     "output_type": "error",
     "traceback": [
      "\u001b[1;31m---------------------------------------------------------------------------\u001b[0m",
      "\u001b[1;31mKeyboardInterrupt\u001b[0m                         Traceback (most recent call last)",
      "Cell \u001b[1;32mIn[2], line 3\u001b[0m\n\u001b[0;32m      1\u001b[0m \u001b[38;5;28;01mimport\u001b[39;00m\u001b[38;5;250m \u001b[39m\u001b[38;5;21;01mtime\u001b[39;00m\n\u001b[0;32m      2\u001b[0m \u001b[38;5;28mprint\u001b[39m(\u001b[38;5;124m\"\u001b[39m\u001b[38;5;124mSleeping\u001b[39m\u001b[38;5;124m\"\u001b[39m)\n\u001b[1;32m----> 3\u001b[0m \u001b[43mtime\u001b[49m\u001b[38;5;241;43m.\u001b[39;49m\u001b[43msleep\u001b[49m\u001b[43m(\u001b[49m\u001b[38;5;241;43m30\u001b[39;49m\u001b[43m)\u001b[49m \u001b[38;5;66;03m# sleep for a while; interrupt me!\u001b[39;00m\n\u001b[0;32m      4\u001b[0m \u001b[38;5;28mprint\u001b[39m(\u001b[38;5;124m\"\u001b[39m\u001b[38;5;124mDone Sleeping\u001b[39m\u001b[38;5;124m\"\u001b[39m)\n",
      "\u001b[1;31mKeyboardInterrupt\u001b[0m: "
     ]
    }
   ],
   "source": [
    "import time\n",
    "print(\"Sleeping\")\n",
    "time.sleep(30) # sleep for a while; interrupt me!\n",
    "print(\"Done Sleeping\")"
   ]
  },
  {
   "cell_type": "markdown",
   "metadata": {
    "id": "d4L9TOP9QSHn"
   },
   "source": [
    "## Автоматическое завершение работы и изучение кода\n",
    "\n",
    "Colab предоставляет автоматическое завершение для изучения атрибутов объектов Python, а также для быстрого просмотра строк документации. В качестве примера сначала запустите следующую ячейку, чтобы импортировать [`numpy`](http://www.numpy.org) модуль."
   ]
  },
  {
   "cell_type": "code",
   "execution_count": 3,
   "metadata": {
    "cellView": "both",
    "id": "Q0JKWcmtQSHp"
   },
   "outputs": [
    {
     "ename": "ModuleNotFoundError",
     "evalue": "No module named 'numpy'",
     "output_type": "error",
     "traceback": [
      "\u001b[1;31m---------------------------------------------------------------------------\u001b[0m",
      "\u001b[1;31mModuleNotFoundError\u001b[0m                       Traceback (most recent call last)",
      "Cell \u001b[1;32mIn[3], line 1\u001b[0m\n\u001b[1;32m----> 1\u001b[0m \u001b[38;5;28;01mimport\u001b[39;00m\u001b[38;5;250m \u001b[39m\u001b[38;5;21;01mnumpy\u001b[39;00m\u001b[38;5;250m \u001b[39m\u001b[38;5;28;01mas\u001b[39;00m\u001b[38;5;250m \u001b[39m\u001b[38;5;21;01mnp\u001b[39;00m\n",
      "\u001b[1;31mModuleNotFoundError\u001b[0m: No module named 'numpy'"
     ]
    }
   ],
   "source": [
    "import numpy as np"
   ]
  },
  {
   "cell_type": "markdown",
   "metadata": {
    "id": "1M890-bXeyYp"
   },
   "source": [
    "Если вы сейчас вставите курсор после `np` и подождать после написания (`.`), вы увидите список доступных дополнений в разделе `np` модуль. Дополнения могут быть открыты снова с помощью **Ctrl+Space**."
   ]
  },
  {
   "cell_type": "code",
   "execution_count": null,
   "metadata": {
    "cellView": "both",
    "colab": {
     "base_uri": "https://localhost:8080/",
     "height": 106
    },
    "executionInfo": {
     "elapsed": 5,
     "status": "error",
     "timestamp": 1728649344724,
     "user": {
      "displayName": "Роман Петров",
      "userId": "10023081595083809317"
     },
     "user_tz": -420
    },
    "id": "j6QRIfUHQSHq",
    "outputId": "85cf4345-7ec5-4223-a0ca-3b8edfb589d8"
   },
   "outputs": [
    {
     "ename": "SyntaxError",
     "evalue": "invalid syntax (<ipython-input-6-df0eca0bfa5c>, line 1)",
     "output_type": "error",
     "traceback": [
      "\u001b[0;36m  File \u001b[0;32m\"<ipython-input-6-df0eca0bfa5c>\"\u001b[0;36m, line \u001b[0;32m1\u001b[0m\n\u001b[0;31m    np.\u001b[0m\n\u001b[0m       ^\u001b[0m\n\u001b[0;31mSyntaxError\u001b[0m\u001b[0;31m:\u001b[0m invalid syntax\n"
     ]
    }
   ],
   "source": [
    "np."
   ]
  },
  {
   "cell_type": "code",
   "execution_count": 8,
   "metadata": {
    "colab": {
     "base_uri": "https://localhost:8080/"
    },
    "executionInfo": {
     "elapsed": 704,
     "status": "ok",
     "timestamp": 1728649446870,
     "user": {
      "displayName": "Роман Петров",
      "userId": "10023081595083809317"
     },
     "user_tz": -420
    },
    "id": "RbzKw9u-iHQW",
    "outputId": "25bb07aa-e1fd-48f8-8fb6-37cb95497f65"
   },
   "outputs": [
    {
     "data": {
      "text/plain": [
       "\u001b[1;31mDocstring:\u001b[0m\n",
       "print(value, ..., sep=' ', end='\\n', file=sys.stdout, flush=False)\n",
       "\n",
       "Prints the values to a stream, or to sys.stdout by default.\n",
       "Optional keyword arguments:\n",
       "file:  a file-like object (stream); defaults to the current sys.stdout.\n",
       "sep:   string inserted between values, default a space.\n",
       "end:   string appended after the last value, default a newline.\n",
       "flush: whether to forcibly flush the stream.\n",
       "\u001b[1;31mType:\u001b[0m      builtin_function_or_method"
      ]
     },
     "metadata": {},
     "output_type": "display_data"
    }
   ],
   "source": [
    "?print"
   ]
  },
  {
   "cell_type": "markdown",
   "metadata": {
    "id": "g6MfomFhQSHs"
   },
   "source": [
    "Если вы введете открытую скобку после любой функции или класса в модуле, вы увидите всплывающее окно со строкой документации:"
   ]
  },
  {
   "cell_type": "code",
   "execution_count": null,
   "metadata": {
    "cellView": "both",
    "id": "SD0XnrVhQSHt"
   },
   "outputs": [],
   "source": [
    "np.ndarray()"
   ]
  },
  {
   "cell_type": "markdown",
   "metadata": {
    "id": "GVIVDgdaRjPQ"
   },
   "source": [
    "Документацию можно открыть снова с помощью **Ctrl+Shift+Space** или же вы можете просмотреть документацию по методу, наведя указатель мыши на название метода."
   ]
  },
  {
   "cell_type": "markdown",
   "metadata": {
    "id": "TYTBdJXxfqiJ"
   },
   "source": [
    "## Форматирование исключений"
   ]
  },
  {
   "cell_type": "markdown",
   "metadata": {
    "id": "4bqAVK-aQSHx"
   },
   "source": [
    "Исключения хорошо отформатированы в выходных данных Colab:"
   ]
  },
  {
   "cell_type": "code",
   "execution_count": null,
   "metadata": {
    "cellView": "both",
    "id": "CrJf1PEmQSHx",
    "outputId": "a8c7a413-a1e6-49f1-c7b5-58986eff5047"
   },
   "outputs": [
    {
     "ename": "ZeroDivisionError",
     "evalue": "",
     "output_type": "error",
     "traceback": [
      "\u001b[1;31m---------------------------------------------------------------------------\u001b[0m\n\u001b[1;31mZeroDivisionError\u001b[0m                         Traceback (most recent call last)",
      "\u001b[1;32m<ipython-input-14-dc39888fd1d2>\u001b[0m in \u001b[0;36m<module>\u001b[1;34m()\u001b[0m\n\u001b[0;32m      1\u001b[0m \u001b[0mx\u001b[0m \u001b[1;33m=\u001b[0m \u001b[1;36m1\u001b[0m\u001b[1;33m\u001b[0m\u001b[0m\n\u001b[0;32m      2\u001b[0m \u001b[0my\u001b[0m \u001b[1;33m=\u001b[0m \u001b[1;36m4\u001b[0m\u001b[1;33m\u001b[0m\u001b[0m\n\u001b[1;32m----> 3\u001b[1;33m \u001b[0mz\u001b[0m \u001b[1;33m=\u001b[0m \u001b[0my\u001b[0m\u001b[1;33m/\u001b[0m\u001b[1;33m(\u001b[0m\u001b[1;36m1\u001b[0m\u001b[1;33m-\u001b[0m\u001b[0mx\u001b[0m\u001b[1;33m)\u001b[0m\u001b[1;33m\u001b[0m\u001b[0m\n\u001b[0m",
      "\u001b[1;31mZeroDivisionError\u001b[0m: integer division or modulo by zero"
     ]
    }
   ],
   "source": [
    "x = 1\n",
    "y = 4\n",
    "z = y/(1-x)"
   ]
  },
  {
   "cell_type": "markdown",
   "metadata": {
    "id": "A6Kx2yYSPps8"
   },
   "source": [
    "# Загрузка данных\n",
    "\n",
    "Для того чтобы загрузить данные для сессии, необходимо выбрать иконку папки на левой панели и дальше нажать на кнопку \"Загрузить в сессионное хранилище\" как показано на скриншоте снизу:"
   ]
  },
  {
   "cell_type": "markdown",
   "metadata": {
    "id": "obOaGSFfQHSS"
   },
   "source": [
    "![image.png](data:image/png;base64,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)"
   ]
  },
  {
   "cell_type": "markdown",
   "metadata": {
    "id": "nhmYDQeIQJTE"
   },
   "source": [
    "Далее необходимо выбрать файл с данными. Обычно они имеют расширение `.csv` или `.xlsx`"
   ]
  },
  {
   "cell_type": "code",
   "execution_count": null,
   "metadata": {
    "id": "ULkQU-G_QHyN"
   },
   "outputs": [],
   "source": []
  },
  {
   "cell_type": "markdown",
   "metadata": {
    "id": "-Rh3-Vt9Nev9"
   },
   "source": [
    "<div class=\"markdown-google-sans\">\n",
    "\n",
    "## Ресурсы по теме\n",
    "\n",
    "### Работа с блокнотами в Colab\n",
    "\n",
    "</div>\n",
    "\n",
    "- [Общие сведения о Colaboratory](/notebooks/basic_features_overview.ipynb)\n",
    "- [Руководство для Markdown](/notebooks/markdown_guide.ipynb)\n",
    "- [Импорт библиотек и установка зависимостей](/notebooks/snippets/importing_libraries.ipynb)\n",
    "- [Сохранение и загрузка блокнотов в GitHub](https://colab.research.google.com/github/googlecolab/colabtools/blob/main/notebooks/colab-github-demo.ipynb)\n",
    "- [Интерактивные формы](/notebooks/forms.ipynb)\n",
    "- [Интерактивные виджеты](/notebooks/widgets.ipynb)\n",
    "\n",
    "<div class=\"markdown-google-sans\">\n",
    "\n",
    "<a name=\"working-with-data\"></a>\n",
    "### Работа с данными\n",
    "</div>\n",
    "\n",
    "- [Загрузка данных: Диск, Таблицы и Google Cloud Storage](/notebooks/io.ipynb)\n",
    "- [Диаграмма: визуализация данных](/notebooks/charts.ipynb)\n",
    "- [Начало работы с BigQuery](/notebooks/bigquery.ipynb)\n",
    "\n",
    "<div class=\"markdown-google-sans\">\n",
    "\n",
    "### Экспресс-курс по машинному обучению\n",
    "\n",
    "<div>\n",
    "\n",
    "Вот несколько блокнотов из онлайн-курса по машинному обучению от Google. Ещё больше информации доступно на <a href=\"https://developers.google.com/machine-learning/crash-course/\">сайте курса</a>.\n",
    "- [Знакомство с Pandas DataFrame](https://colab.research.google.com/github/google/eng-edu/blob/main/ml/cc/exercises/pandas_dataframe_ultraquick_tutorial.ipynb)\n",
    "- [Линейная регрессия в tf.keras с использованием синтетических данных](https://colab.research.google.com/github/google/eng-edu/blob/main/ml/cc/exercises/linear_regression_with_synthetic_data.ipynb)\n",
    "\n",
    "<div class=\"markdown-google-sans\">\n",
    "\n",
    "<a name=\"using-accelerated-hardware\"></a>\n",
    "### Использование ускорителей\n",
    "</div>\n",
    "\n",
    "- [TensorFlow с графическими процессорами](/notebooks/gpu.ipynb)\n",
    "- [TensorFlow с TPU](/notebooks/tpu.ipynb)"
   ]
  }
 ],
 "metadata": {
  "colab": {
   "provenance": []
  },
  "kernelspec": {
   "display_name": "Python 3 (ipykernel)",
   "language": "python",
   "name": "python3"
  },
  "language_info": {
   "codemirror_mode": {
    "name": "ipython",
    "version": 3
   },
   "file_extension": ".py",
   "mimetype": "text/x-python",
   "name": "python",
   "nbconvert_exporter": "python",
   "pygments_lexer": "ipython3",
   "version": "3.10.8"
  }
 },
 "nbformat": 4,
 "nbformat_minor": 4
}
