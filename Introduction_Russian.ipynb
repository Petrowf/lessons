{
 "cells": [
  {
   "cell_type": "markdown",
   "id": "6d398666",
   "metadata": {},
   "source": [
    "# Введение в Python"
   ]
  },
  {
   "cell_type": "markdown",
   "id": "e6d3fab2",
   "metadata": {},
   "source": [
    " ![snake](images/snake.png)"
   ]
  },
  {
   "cell_type": "markdown",
   "id": "a9830b01",
   "metadata": {},
   "source": [
    "# Особенности Python\n",
    "![Лого Python](images/python.png)\n",
    "* Python - Красивый, лаконичный, простой в освоении язык\n",
    "* Python - Работает медленнее других языков программирования\n",
    "* Стандартная библиотека Python даёт много возможностей\n",
    "* Python - открытый язык программирования\n",
    "* Python - Интерпретируемый язык, то есть выполняется построчно"
   ]
  },
  {
   "cell_type": "markdown",
   "id": "2a33f372",
   "metadata": {},
   "source": [
    "  ![snake](images/snake.png)"
   ]
  },
  {
   "cell_type": "markdown",
   "id": "464d5aca",
   "metadata": {},
   "source": [
    " "
   ]
  },
  {
   "cell_type": "markdown",
   "id": "a69ad04d",
   "metadata": {},
   "source": [
    "# Как вы думаете из чего состоит синтаксис Python?\n",
    "![quastion](images/quastion_snake.png) \n",
    "\n",
    "\n",
    "\n",
    "\n",
    "\n",
    "![quastion](images/teacher_snake.jpg)\n",
    "![quastion](images/alphabet_russian.png)"
   ]
  },
  {
   "cell_type": "markdown",
   "id": "01b27225",
   "metadata": {},
   "source": [
    "* Cлужебные слова - имена объектов, которые есть в Python по умолчанию (print, input, turtle, ...)\n",
    "* Переменные - имена контейнеров, в которые мы помещаем значения\n",
    "* Значения - числа или строки (1, 2.5, \"Hello Beijing\", ...)"
   ]
  },
  {
   "cell_type": "markdown",
   "id": "88aaf3ea",
   "metadata": {},
   "source": [
    " "
   ]
  },
  {
   "cell_type": "markdown",
   "id": "90bbe73d",
   "metadata": {},
   "source": [
    " "
   ]
  },
  {
   "cell_type": "markdown",
   "id": "3463eed4",
   "metadata": {},
   "source": [
    " "
   ]
  },
  {
   "cell_type": "markdown",
   "id": "095cd338",
   "metadata": {},
   "source": [
    " "
   ]
  },
  {
   "cell_type": "markdown",
   "id": "74583feb",
   "metadata": {},
   "source": [
    " "
   ]
  },
  {
   "cell_type": "markdown",
   "id": "e7850940",
   "metadata": {},
   "source": [
    " "
   ]
  },
  {
   "cell_type": "markdown",
   "id": "cf1b81a1",
   "metadata": {},
   "source": [
    " "
   ]
  },
  {
   "cell_type": "markdown",
   "id": "93ed48e0",
   "metadata": {},
   "source": [
    "  ![snake](images/snake.png)"
   ]
  },
  {
   "cell_type": "markdown",
   "id": "2b436d6d",
   "metadata": {},
   "source": [
    " "
   ]
  },
  {
   "cell_type": "markdown",
   "id": "8968c795",
   "metadata": {},
   "source": [
    " "
   ]
  },
  {
   "cell_type": "markdown",
   "id": "60984f60",
   "metadata": {},
   "source": [
    " "
   ]
  },
  {
   "cell_type": "markdown",
   "id": "a76df377",
   "metadata": {},
   "source": [
    " "
   ]
  },
  {
   "cell_type": "markdown",
   "id": "a66c46a7",
   "metadata": {},
   "source": [
    " "
   ]
  },
  {
   "cell_type": "markdown",
   "id": "0a5f67bf",
   "metadata": {},
   "source": [
    "# Переменные - коробки, в которых лежат значения\n",
    "![quastion](images/snake_in_box.jpg)"
   ]
  },
  {
   "cell_type": "markdown",
   "id": "4900c351",
   "metadata": {},
   "source": [
    "## Правила при выборе имени переменной\n",
    "\n",
    "* Имя переменной должно начинаться с буквы (test) или символа подчеркивания (_test)\n",
    "* Имя переменной не может начинаться с цифры\n",
    "* Имя переменной может содержать только буквенно-цифровые символы и подчеркивание (Az, 0-9 и _)\n",
    "* Имена переменных чувствительны к регистру (test, Test и ТEST — три разные переменные)\n",
    "* Имя переменной не должно совпадать с зарезервированным ключевым словом\n",
    "\n",
    "### Список всех зарезервированных ключевых слов можно посмотреть так:"
   ]
  },
  {
   "cell_type": "code",
   "execution_count": 1,
   "id": "6a66cf3f",
   "metadata": {},
   "outputs": [
    {
     "name": "stdout",
     "output_type": "stream",
     "text": [
      "['False', 'None', 'True', 'and', 'as', 'assert', 'async', 'await', 'break', 'class', 'continue', 'def', 'del', 'elif', 'else', 'except', 'finally', 'for', 'from', 'global', 'if', 'import', 'in', 'is', 'lambda', 'nonlocal', 'not', 'or', 'pass', 'raise', 'return', 'try', 'while', 'with', 'yield']\n"
     ]
    }
   ],
   "source": [
    "import keyword\n",
    "print(keyword.kwlist)"
   ]
  },
  {
   "cell_type": "markdown",
   "id": "97a54aa9",
   "metadata": {},
   "source": [
    "Если нарушить правило именования, получим SyntaxError:"
   ]
  },
  {
   "cell_type": "code",
   "execution_count": 2,
   "id": "44bc0269",
   "metadata": {},
   "outputs": [
    {
     "ename": "SyntaxError",
     "evalue": "invalid decimal literal (2986173846.py, line 1)",
     "output_type": "error",
     "traceback": [
      "\u001b[1;36m  Cell \u001b[1;32mIn[2], line 1\u001b[1;36m\u001b[0m\n\u001b[1;33m    3r = 10\u001b[0m\n\u001b[1;37m    ^\u001b[0m\n\u001b[1;31mSyntaxError\u001b[0m\u001b[1;31m:\u001b[0m invalid decimal literal\n"
     ]
    }
   ],
   "source": [
    "3r = 10\n",
    "print(3r)"
   ]
  },
  {
   "cell_type": "markdown",
   "id": "97b83af2",
   "metadata": {},
   "source": [
    " ![snake](images/snake.png)"
   ]
  },
  {
   "cell_type": "markdown",
   "id": "5148549c",
   "metadata": {},
   "source": [
    " "
   ]
  },
  {
   "cell_type": "markdown",
   "id": "2e769ce2",
   "metadata": {},
   "source": [
    " "
   ]
  },
  {
   "cell_type": "markdown",
   "id": "8ab1615d",
   "metadata": {},
   "source": [
    " "
   ]
  },
  {
   "cell_type": "markdown",
   "id": "c92947e9",
   "metadata": {},
   "source": [
    " "
   ]
  },
  {
   "cell_type": "markdown",
   "id": "e0e96671",
   "metadata": {},
   "source": [
    "# Типы данных\n"
   ]
  },
  {
   "cell_type": "markdown",
   "id": "815c610a",
   "metadata": {},
   "source": [
    "## Целые числа - int\n",
    "![quastion](images/int_snake.jpg)"
   ]
  },
  {
   "cell_type": "markdown",
   "id": "d420ac4b",
   "metadata": {},
   "source": [
    "# Примеры: -5, -4, -3, -2, -1, 0, 1, 2, 3, 4, 5"
   ]
  },
  {
   "cell_type": "markdown",
   "id": "b7445438",
   "metadata": {},
   "source": [
    "## Cтроки\n",
    "![quastion](images/str_snake.png)"
   ]
  },
  {
   "cell_type": "markdown",
   "id": "20ef2940",
   "metadata": {},
   "source": [
    "# Примеры: \"Hello World\", \"Привет Мир\", \"你好世界\""
   ]
  },
  {
   "cell_type": "markdown",
   "id": "d4c289b6",
   "metadata": {},
   "source": [
    "# Нецелые числа - float\n",
    "![quastion](float_snake.png)\n",
    "## Примеры: 2.0, 1.5, -3.33, ..."
   ]
  },
  {
   "cell_type": "markdown",
   "id": "bdd5675f",
   "metadata": {},
   "source": [
    "# Логический тип - bool\n",
    "![quastion](images/bool_snake.png)\n",
    "## Примеры: True, False"
   ]
  },
  {
   "cell_type": "markdown",
   "id": "8ce3803e",
   "metadata": {},
   "source": [
    " "
   ]
  },
  {
   "cell_type": "markdown",
   "id": "815e5f4b",
   "metadata": {},
   "source": [
    " "
   ]
  },
  {
   "cell_type": "markdown",
   "id": "a6e4e6f9",
   "metadata": {},
   "source": [
    " "
   ]
  },
  {
   "cell_type": "markdown",
   "id": "cc06f40d",
   "metadata": {},
   "source": [
    " "
   ]
  },
  {
   "cell_type": "markdown",
   "id": "157404b5",
   "metadata": {},
   "source": [
    " "
   ]
  },
  {
   "cell_type": "markdown",
   "id": "7a791f02",
   "metadata": {},
   "source": [
    " "
   ]
  },
  {
   "cell_type": "markdown",
   "id": "cb246f78",
   "metadata": {},
   "source": [
    " "
   ]
  },
  {
   "cell_type": "markdown",
   "id": "1ab14225",
   "metadata": {},
   "source": [
    " "
   ]
  },
  {
   "cell_type": "markdown",
   "id": "55f06023",
   "metadata": {},
   "source": [
    "  ![snake](images/snake.png)"
   ]
  },
  {
   "cell_type": "markdown",
   "id": "641285a0",
   "metadata": {},
   "source": [
    " # Ввод и вывод"
   ]
  },
  {
   "cell_type": "code",
   "execution_count": 3,
   "id": "0104fec0",
   "metadata": {},
   "outputs": [
    {
     "name": "stdout",
     "output_type": "stream",
     "text": [
      "1 2 3 4 5\n"
     ]
    }
   ],
   "source": [
    "print(1, 2, 3, 4, 5)  # В скобках указываем то, что хотим вывести, через запятую"
   ]
  },
  {
   "cell_type": "code",
   "execution_count": null,
   "id": "d80deeea",
   "metadata": {},
   "outputs": [],
   "source": [
    "number = input(\"Введите число: \") # В скобках указываем строку, которую хотим вывести перед полем для ввода\n",
    "print(number)"
   ]
  },
  {
   "cell_type": "markdown",
   "id": "0f2f8caa",
   "metadata": {},
   "source": [
    "# Операции с типами данных\n",
    "![quastion](images/calculator_snake.png)"
   ]
  },
  {
   "cell_type": "markdown",
   "id": "467b5c48",
   "metadata": {},
   "source": [
    "## Арифметические"
   ]
  },
  {
   "cell_type": "code",
   "execution_count": 8,
   "id": "0ded43c0",
   "metadata": {},
   "outputs": [
    {
     "name": "stdout",
     "output_type": "stream",
     "text": [
      "4 0 4 1.0 4 1 2\n"
     ]
    }
   ],
   "source": [
    "summ = 2 + 2 #Сложение\n",
    "diff = 2 - 2 #Вычетание\n",
    "mult = 2 * 2 #Умножение\n",
    "division = 2 / 2 #Деление - результат всегда float\n",
    "degr = 2 ** 2 #Возведение в степень\n",
    "mod = 7 % 3 #Остаток от деления\n",
    "div = 7 // 3 #Деление нацело\n",
    "print(summ, diff, mult, division, degr, mod, div) "
   ]
  },
  {
   "cell_type": "code",
   "execution_count": 9,
   "id": "bbd605b2",
   "metadata": {},
   "outputs": [
    {
     "data": {
      "text/plain": [
       "'HelloHelloHelloHelloHello'"
      ]
     },
     "execution_count": 9,
     "metadata": {},
     "output_type": "execute_result"
    }
   ],
   "source": [
    "\"Hello\" * 5 #Умножение строки на число"
   ]
  },
  {
   "cell_type": "code",
   "execution_count": 10,
   "id": "3bcacbea",
   "metadata": {},
   "outputs": [
    {
     "data": {
      "text/plain": [
       "'Hello World'"
      ]
     },
     "execution_count": 10,
     "metadata": {},
     "output_type": "execute_result"
    }
   ],
   "source": [
    "\"Hello \" + \"World\" #Сложение строк"
   ]
  },
  {
   "cell_type": "markdown",
   "id": "1331be54",
   "metadata": {},
   "source": [
    "## Логические"
   ]
  },
  {
   "cell_type": "code",
   "execution_count": 11,
   "id": "b330c3a9",
   "metadata": {},
   "outputs": [
    {
     "name": "stdout",
     "output_type": "stream",
     "text": [
      "True True True True True False True False False True\n"
     ]
    }
   ],
   "source": [
    "more = 2 > 1 \n",
    "less = 2 < 3\n",
    "more_or_equal = 2 >= 2\n",
    "less_or_equal = 2 <= 2\n",
    "equal = 2 == 2\n",
    "unequal = 2 != 2\n",
    "into = 'e' in \"Hello Beijing\"\n",
    "no = not(True)\n",
    "and_ = (2 > 1) and (3 > 5)\n",
    "or_ = (2 > 1) or (3 > 5)\n",
    "print(more, less, more_or_equal, less_or_equal, equal, unequal, into, no, and_, or_)"
   ]
  },
  {
   "cell_type": "markdown",
   "id": "9f621cbb",
   "metadata": {},
   "source": [
    " "
   ]
  },
  {
   "cell_type": "markdown",
   "id": "b3a0f70d",
   "metadata": {},
   "source": [
    " "
   ]
  },
  {
   "cell_type": "markdown",
   "id": "993abf8f",
   "metadata": {},
   "source": [
    " "
   ]
  },
  {
   "cell_type": "markdown",
   "id": "10b83494",
   "metadata": {},
   "source": [
    " "
   ]
  },
  {
   "cell_type": "markdown",
   "id": "ac1b7f23",
   "metadata": {},
   "source": [
    " "
   ]
  },
  {
   "cell_type": "markdown",
   "id": "03f7e6de",
   "metadata": {},
   "source": [
    " "
   ]
  },
  {
   "cell_type": "markdown",
   "id": "b5b1b61d",
   "metadata": {},
   "source": [
    "  ![snake](images/snake.png)"
   ]
  },
  {
   "cell_type": "markdown",
   "id": "57b049f9",
   "metadata": {},
   "source": [
    " "
   ]
  },
  {
   "cell_type": "markdown",
   "id": "b8f8a365",
   "metadata": {},
   "source": [
    " "
   ]
  },
  {
   "cell_type": "markdown",
   "id": "34703731",
   "metadata": {},
   "source": [
    " "
   ]
  },
  {
   "cell_type": "markdown",
   "id": "eb0a813a",
   "metadata": {},
   "source": [
    " "
   ]
  },
  {
   "cell_type": "markdown",
   "id": "11d1808c",
   "metadata": {},
   "source": [
    " "
   ]
  },
  {
   "cell_type": "markdown",
   "id": "c46c3c34",
   "metadata": {},
   "source": [
    " "
   ]
  },
  {
   "cell_type": "markdown",
   "id": "0c54c9e3",
   "metadata": {},
   "source": [
    " "
   ]
  },
  {
   "cell_type": "markdown",
   "id": "29fb62b2",
   "metadata": {},
   "source": [
    " "
   ]
  },
  {
   "cell_type": "markdown",
   "id": "8e1e9150",
   "metadata": {},
   "source": [
    " "
   ]
  },
  {
   "cell_type": "markdown",
   "id": "1204d851",
   "metadata": {},
   "source": [
    " "
   ]
  },
  {
   "cell_type": "markdown",
   "id": "d2bf34f9",
   "metadata": {},
   "source": [
    "# Первая программа на Python\n",
    "![quastion](images/baby_snake.jpg)"
   ]
  },
  {
   "cell_type": "code",
   "execution_count": null,
   "id": "cfeaa92c",
   "metadata": {},
   "outputs": [],
   "source": []
  },
  {
   "cell_type": "markdown",
   "id": "219496ed",
   "metadata": {},
   "source": [
    " "
   ]
  },
  {
   "cell_type": "markdown",
   "id": "d4c597fa",
   "metadata": {},
   "source": [
    " "
   ]
  },
  {
   "cell_type": "markdown",
   "id": "9ddc283b",
   "metadata": {},
   "source": [
    " "
   ]
  },
  {
   "cell_type": "markdown",
   "id": "9fcb851d",
   "metadata": {},
   "source": [
    " "
   ]
  },
  {
   "cell_type": "markdown",
   "id": "159a470c",
   "metadata": {},
   "source": [
    " "
   ]
  },
  {
   "cell_type": "markdown",
   "id": "4065e115",
   "metadata": {},
   "source": [
    " "
   ]
  },
  {
   "cell_type": "markdown",
   "id": "6d57713d",
   "metadata": {},
   "source": [
    " "
   ]
  },
  {
   "cell_type": "markdown",
   "id": "c73df2a1",
   "metadata": {},
   "source": [
    "# Изменение типа данных\n"
   ]
  },
  {
   "cell_type": "code",
   "execution_count": 8,
   "id": "40206d7c",
   "metadata": {},
   "outputs": [
    {
     "name": "stdin",
     "output_type": "stream",
     "text": [
      "Введите число:  ghb\n"
     ]
    },
    {
     "name": "stdout",
     "output_type": "stream",
     "text": [
      "<class 'str'> ghb\n"
     ]
    },
    {
     "ename": "ValueError",
     "evalue": "invalid literal for int() with base 10: 'ghb'",
     "output_type": "error",
     "traceback": [
      "\u001b[1;31m---------------------------------------------------------------------------\u001b[0m",
      "\u001b[1;31mValueError\u001b[0m                                Traceback (most recent call last)",
      "Cell \u001b[1;32mIn[8], line 3\u001b[0m\n\u001b[0;32m      1\u001b[0m string_number \u001b[38;5;241m=\u001b[39m \u001b[38;5;28minput\u001b[39m(\u001b[38;5;124m\"\u001b[39m\u001b[38;5;124mВведите число: \u001b[39m\u001b[38;5;124m\"\u001b[39m)\n\u001b[0;32m      2\u001b[0m \u001b[38;5;28mprint\u001b[39m(\u001b[38;5;28mtype\u001b[39m(string_number), string_number)\n\u001b[1;32m----> 3\u001b[0m int_number \u001b[38;5;241m=\u001b[39m \u001b[38;5;28;43mint\u001b[39;49m\u001b[43m(\u001b[49m\u001b[43mstring_number\u001b[49m\u001b[43m)\u001b[49m\n\u001b[0;32m      4\u001b[0m \u001b[38;5;28mprint\u001b[39m(\u001b[38;5;28mtype\u001b[39m(int_number), int_number)\n",
      "\u001b[1;31mValueError\u001b[0m: invalid literal for int() with base 10: 'ghb'"
     ]
    }
   ],
   "source": [
    "string_number = input(\"Введите число: \")\n",
    "print(type(string_number), string_number)\n",
    "int_number = int(string_number)\n",
    "print(type(int_number), int_number)"
   ]
  },
  {
   "cell_type": "code",
   "execution_count": 13,
   "id": "572c7c8c",
   "metadata": {},
   "outputs": [
    {
     "name": "stdout",
     "output_type": "stream",
     "text": [
      "5\n",
      "5.0\n",
      "5\n",
      "False\n",
      "True\n",
      "2.5\n"
     ]
    },
    {
     "ename": "ValueError",
     "evalue": "invalid literal for int() with base 10: '2.5'",
     "output_type": "error",
     "traceback": [
      "\u001b[1;31m---------------------------------------------------------------------------\u001b[0m",
      "\u001b[1;31mValueError\u001b[0m                                Traceback (most recent call last)",
      "\u001b[1;32m<ipython-input-13-39d5ad33b93a>\u001b[0m in \u001b[0;36m<module>\u001b[1;34m\u001b[0m\n\u001b[0;32m      5\u001b[0m \u001b[0mprint\u001b[0m\u001b[1;33m(\u001b[0m\u001b[0mbool\u001b[0m\u001b[1;33m(\u001b[0m\u001b[1;36m1\u001b[0m\u001b[1;33m)\u001b[0m\u001b[1;33m)\u001b[0m\u001b[1;33m\u001b[0m\u001b[1;33m\u001b[0m\u001b[0m\n\u001b[0;32m      6\u001b[0m \u001b[0mprint\u001b[0m\u001b[1;33m(\u001b[0m\u001b[0mfloat\u001b[0m\u001b[1;33m(\u001b[0m\u001b[1;34m'2.5'\u001b[0m\u001b[1;33m)\u001b[0m\u001b[1;33m)\u001b[0m\u001b[1;33m\u001b[0m\u001b[1;33m\u001b[0m\u001b[0m\n\u001b[1;32m----> 7\u001b[1;33m \u001b[0mprint\u001b[0m\u001b[1;33m(\u001b[0m\u001b[0mint\u001b[0m\u001b[1;33m(\u001b[0m\u001b[1;34m'2.5'\u001b[0m\u001b[1;33m)\u001b[0m\u001b[1;33m)\u001b[0m\u001b[1;33m\u001b[0m\u001b[1;33m\u001b[0m\u001b[0m\n\u001b[0m",
      "\u001b[1;31mValueError\u001b[0m: invalid literal for int() with base 10: '2.5'"
     ]
    }
   ],
   "source": [
    "print(int('5'))\n",
    "print(float('5'))\n",
    "print(str(5))\n",
    "print(bool(0))\n",
    "print(bool(1))\n",
    "print(float('2.5'))\n",
    "print(int('2.5'))"
   ]
  },
  {
   "cell_type": "code",
   "execution_count": 14,
   "id": "0dbccfbf",
   "metadata": {},
   "outputs": [
    {
     "name": "stdout",
     "output_type": "stream",
     "text": [
      "2\n"
     ]
    }
   ],
   "source": [
    "int_input = int(input())"
   ]
  },
  {
   "cell_type": "markdown",
   "id": "752eb1ef",
   "metadata": {},
   "source": [
    " "
   ]
  },
  {
   "cell_type": "markdown",
   "id": "03aaafc6",
   "metadata": {},
   "source": [
    " "
   ]
  },
  {
   "cell_type": "markdown",
   "id": "fd98fd98",
   "metadata": {},
   "source": [
    " "
   ]
  },
  {
   "cell_type": "markdown",
   "id": "ca5a45e0",
   "metadata": {},
   "source": [
    " "
   ]
  },
  {
   "cell_type": "markdown",
   "id": "14f03efa",
   "metadata": {},
   "source": [
    " "
   ]
  },
  {
   "cell_type": "markdown",
   "id": "fc3f4d89",
   "metadata": {},
   "source": [
    " "
   ]
  },
  {
   "cell_type": "markdown",
   "id": "46004900",
   "metadata": {},
   "source": [
    " "
   ]
  },
  {
   "cell_type": "markdown",
   "id": "4d535375",
   "metadata": {},
   "source": [
    " "
   ]
  },
  {
   "cell_type": "markdown",
   "id": "b2acf28d",
   "metadata": {},
   "source": [
    " "
   ]
  },
  {
   "cell_type": "markdown",
   "id": "7848d1da",
   "metadata": {},
   "source": [
    " "
   ]
  },
  {
   "cell_type": "markdown",
   "id": "e5492ecc",
   "metadata": {},
   "source": [
    "  ![snake](images/snake.png)"
   ]
  },
  {
   "cell_type": "markdown",
   "id": "e9da5858",
   "metadata": {},
   "source": [
    " "
   ]
  },
  {
   "cell_type": "markdown",
   "id": "fa8e46d0",
   "metadata": {},
   "source": [
    " "
   ]
  },
  {
   "cell_type": "markdown",
   "id": "775ad56b",
   "metadata": {},
   "source": [
    " "
   ]
  },
  {
   "cell_type": "markdown",
   "id": "bfa5ef0d",
   "metadata": {},
   "source": [
    " "
   ]
  },
  {
   "cell_type": "markdown",
   "id": "5cb09888",
   "metadata": {},
   "source": [
    " "
   ]
  },
  {
   "cell_type": "markdown",
   "id": "aac0e9e7",
   "metadata": {},
   "source": [
    " "
   ]
  },
  {
   "cell_type": "markdown",
   "id": "f685e63e",
   "metadata": {},
   "source": [
    "# Условия\n",
    "![quastion](images/if_russian.png)"
   ]
  },
  {
   "cell_type": "code",
   "execution_count": 15,
   "id": "6e73bb40",
   "metadata": {},
   "outputs": [
    {
     "name": "stdout",
     "output_type": "stream",
     "text": [
      "Введите число: 2\n",
      "Число меньше 5\n"
     ]
    }
   ],
   "source": [
    "number = int(input(\"Введите число: \"))\n",
    "\n",
    "if number > 5:\n",
    "    print(\"Число больше 5\")\n",
    "else:\n",
    "    print(\"Число меньше 5\")"
   ]
  },
  {
   "cell_type": "markdown",
   "id": "a3397ebc",
   "metadata": {},
   "source": [
    "![quastion](images/elif_russian.png)"
   ]
  },
  {
   "cell_type": "code",
   "execution_count": 2,
   "id": "f719ab57",
   "metadata": {},
   "outputs": [
    {
     "name": "stdin",
     "output_type": "stream",
     "text": [
      "Введите число:  2\n"
     ]
    },
    {
     "name": "stdout",
     "output_type": "stream",
     "text": [
      "Число меньше 3\n",
      "конец\n"
     ]
    }
   ],
   "source": [
    "number = int(input(\"Введите число: \"))\n",
    "\n",
    "if number > 5:\n",
    "    print(\"Число больше 5\")\n",
    "elif number > 3:\n",
    "    print(\"Число от 3 до 5\")\n",
    "else:\n",
    "    print(\"Число меньше 3\")\n",
    "print('конец')"
   ]
  },
  {
   "cell_type": "markdown",
   "id": "d512eb0b",
   "metadata": {},
   "source": [
    "# Задача\n",
    "### На вход подаётся целое число. Программа должна вывести \"Четное\", если число четное, или \"Нечетное\", если число нечетное."
   ]
  },
  {
   "cell_type": "code",
   "execution_count": null,
   "id": "a3ea4fbd",
   "metadata": {},
   "outputs": [],
   "source": []
  },
  {
   "cell_type": "markdown",
   "id": "c96d7d0c",
   "metadata": {},
   "source": [
    "# Задача\n",
    "### На вход подаётся три числа. Программа должна вывести их в порядке возрастания."
   ]
  },
  {
   "cell_type": "code",
   "execution_count": null,
   "id": "c4890545",
   "metadata": {},
   "outputs": [],
   "source": []
  },
  {
   "cell_type": "markdown",
   "id": "83fdfa23",
   "metadata": {},
   "source": [
    " "
   ]
  },
  {
   "cell_type": "markdown",
   "id": "cf57a649",
   "metadata": {},
   "source": [
    " "
   ]
  },
  {
   "cell_type": "markdown",
   "id": "14606f87",
   "metadata": {},
   "source": [
    " "
   ]
  },
  {
   "cell_type": "markdown",
   "id": "3bf6d467",
   "metadata": {},
   "source": [
    " "
   ]
  },
  {
   "cell_type": "markdown",
   "id": "77484a29",
   "metadata": {},
   "source": [
    " "
   ]
  },
  {
   "cell_type": "markdown",
   "id": "75a06d27",
   "metadata": {},
   "source": [
    " "
   ]
  },
  {
   "cell_type": "markdown",
   "id": "43e86af1",
   "metadata": {},
   "source": [
    "  ![snake](images/snake.png)"
   ]
  },
  {
   "cell_type": "markdown",
   "id": "ce15798b",
   "metadata": {},
   "source": [
    " "
   ]
  },
  {
   "cell_type": "markdown",
   "id": "4c6dac71",
   "metadata": {},
   "source": [
    " "
   ]
  },
  {
   "cell_type": "markdown",
   "id": "43dc21ea",
   "metadata": {},
   "source": [
    " "
   ]
  },
  {
   "cell_type": "markdown",
   "id": "cdd13fc7",
   "metadata": {},
   "source": [
    " "
   ]
  },
  {
   "cell_type": "markdown",
   "id": "65c84a86",
   "metadata": {},
   "source": [
    " "
   ]
  },
  {
   "cell_type": "markdown",
   "id": "aa3addf5",
   "metadata": {},
   "source": [
    " "
   ]
  },
  {
   "cell_type": "markdown",
   "id": "d629be6b",
   "metadata": {},
   "source": [
    " "
   ]
  },
  {
   "cell_type": "markdown",
   "id": "b4a1c5f9",
   "metadata": {},
   "source": [
    "# Циклы\n",
    "## 1. while\n",
    "![quastion](images/while_russian.png)"
   ]
  },
  {
   "cell_type": "code",
   "execution_count": 17,
   "id": "1c54d744",
   "metadata": {},
   "outputs": [
    {
     "name": "stdout",
     "output_type": "stream",
     "text": [
      "Введите пароль: 11111111\n",
      "Вход выполнен\n"
     ]
    }
   ],
   "source": [
    "true_password = \"11111111\"\n",
    "password = input(\"Введите пароль: \")\n",
    "\n",
    "while password != true_password:\n",
    "    print(\"Пароль неверный\")\n",
    "    password = input(\"Введите пароль: \")\n",
    "\n",
    "else: \n",
    "    print(\"Вход выполнен\")"
   ]
  },
  {
   "cell_type": "markdown",
   "id": "9fc5cf28",
   "metadata": {},
   "source": [
    "## 2. for \n",
    "![quastion](images/for_russian.png)"
   ]
  },
  {
   "cell_type": "code",
   "execution_count": 19,
   "id": "2b0f948c",
   "metadata": {},
   "outputs": [
    {
     "name": "stdout",
     "output_type": "stream",
     "text": [
      "Введите длину цикла: 10\n",
      "0\n",
      "1\n",
      "2\n",
      "3\n",
      "4\n",
      "5\n",
      "6\n",
      "7\n",
      "8\n",
      "9\n"
     ]
    }
   ],
   "source": [
    "n = int(input(\"Введите длину цикла: \"))\n",
    "for i in range(0, n, 1):\n",
    "    print(i)"
   ]
  },
  {
   "cell_type": "code",
   "execution_count": 20,
   "id": "84c88863",
   "metadata": {},
   "outputs": [
    {
     "name": "stdout",
     "output_type": "stream",
     "text": [
      "H\n",
      "e\n",
      "l\n",
      "l\n",
      "o\n",
      " \n",
      "W\n",
      "o\n",
      "r\n",
      "l\n",
      "d\n"
     ]
    }
   ],
   "source": [
    "message = \"Hello World\"\n",
    "for char in message:\n",
    "    print(char)"
   ]
  },
  {
   "cell_type": "code",
   "execution_count": 21,
   "id": "45ad5f49",
   "metadata": {},
   "outputs": [
    {
     "name": "stdout",
     "output_type": "stream",
     "text": [
      "Введите длину цикла: 5\n",
      "1\n",
      "2\n",
      "3\n",
      "4\n"
     ]
    }
   ],
   "source": [
    "n = int(input(\"Введите длину цикла: \"))\n",
    "for i in range(1, n, 1):\n",
    "    print(i)"
   ]
  },
  {
   "cell_type": "code",
   "execution_count": 22,
   "id": "7e9759c0",
   "metadata": {},
   "outputs": [
    {
     "name": "stdout",
     "output_type": "stream",
     "text": [
      "Введите длину цикла: 5\n",
      "0\n",
      "2\n",
      "4\n"
     ]
    }
   ],
   "source": [
    "n = int(input(\"Введите длину цикла: \"))\n",
    "for i in range(0, n, 2):\n",
    "    print(i)"
   ]
  },
  {
   "cell_type": "code",
   "execution_count": 23,
   "id": "36efaafa",
   "metadata": {},
   "outputs": [
    {
     "name": "stdout",
     "output_type": "stream",
     "text": [
      "Введите длину цикла: 5\n",
      "0\n",
      "1\n",
      "2\n",
      "3\n",
      "4\n"
     ]
    }
   ],
   "source": [
    "n = int(input(\"Введите длину цикла: \"))\n",
    "for i in range(n):\n",
    "    print(i)"
   ]
  },
  {
   "cell_type": "markdown",
   "id": "d1862396",
   "metadata": {},
   "source": [
    "# Задача\n",
    "### Заданы первый и второй элементы арифметической прогрессии. Требуется написать программу, которая вычислит элемент прогрессии по ее номеру."
   ]
  },
  {
   "cell_type": "code",
   "execution_count": null,
   "id": "955fd1fd-1b4f-4722-9c93-d8de70d24891",
   "metadata": {},
   "outputs": [],
   "source": [
    " "
   ]
  },
  {
   "cell_type": "markdown",
   "id": "e591375d",
   "metadata": {},
   "source": [
    " "
   ]
  },
  {
   "cell_type": "markdown",
   "id": "9ff59e22",
   "metadata": {},
   "source": [
    " "
   ]
  },
  {
   "cell_type": "markdown",
   "id": "3521a814",
   "metadata": {},
   "source": [
    " "
   ]
  },
  {
   "cell_type": "markdown",
   "id": "47746b6c",
   "metadata": {},
   "source": [
    " "
   ]
  },
  {
   "cell_type": "markdown",
   "id": "69a42489",
   "metadata": {},
   "source": [
    " "
   ]
  },
  {
   "cell_type": "markdown",
   "id": "ca6d400a",
   "metadata": {},
   "source": [
    " "
   ]
  },
  {
   "cell_type": "markdown",
   "id": "de48e13a",
   "metadata": {},
   "source": [
    " "
   ]
  },
  {
   "cell_type": "markdown",
   "id": "09b076d9",
   "metadata": {},
   "source": [
    "  ![snake](images/snake.png)"
   ]
  },
  {
   "cell_type": "markdown",
   "id": "2fbb5cbe",
   "metadata": {},
   "source": [
    " "
   ]
  },
  {
   "cell_type": "markdown",
   "id": "527f6386",
   "metadata": {},
   "source": [
    " "
   ]
  },
  {
   "cell_type": "markdown",
   "id": "9c0086b8",
   "metadata": {},
   "source": [
    " "
   ]
  },
  {
   "cell_type": "markdown",
   "id": "149d694c",
   "metadata": {},
   "source": [
    " "
   ]
  },
  {
   "cell_type": "markdown",
   "id": "2bd509ab",
   "metadata": {},
   "source": [
    " "
   ]
  },
  {
   "cell_type": "markdown",
   "id": "38cba6ea",
   "metadata": {},
   "source": [
    " "
   ]
  },
  {
   "cell_type": "markdown",
   "id": "9bbe472d",
   "metadata": {},
   "source": [
    " "
   ]
  },
  {
   "cell_type": "markdown",
   "id": "9c021036",
   "metadata": {},
   "source": [
    " "
   ]
  },
  {
   "cell_type": "markdown",
   "id": "045036e7",
   "metadata": {},
   "source": [
    "# Cписки\n",
    "![quastion](images/list.jpg)"
   ]
  },
  {
   "cell_type": "code",
   "execution_count": 29,
   "id": "e75b57d8",
   "metadata": {},
   "outputs": [
    {
     "name": "stdout",
     "output_type": "stream",
     "text": [
      "Бабочки\n",
      "['Улитка', 'Бабочки', 'Гусеницы', 'Пчёлы']\n",
      "['Улитка', 'Гусеницы', 'Пчёлы', 'Пауки', 'Бабочки']\n"
     ]
    }
   ],
   "source": [
    "train = ['', \"Улитка\", \"Бабочки\", \"Гусеницы\", \"Пчёлы\", \"Пчёлы\", \"Божьи коровки\", \"Пауки\", \"Гусеницы\", \"Бабочки\", \"Кузнечики\"]\n",
    "print(train[2])\n",
    "print(train[1:5])\n",
    "print(train[1:10:2])"
   ]
  },
  {
   "cell_type": "code",
   "execution_count": 30,
   "id": "2f66d038",
   "metadata": {},
   "outputs": [
    {
     "name": "stdout",
     "output_type": "stream",
     "text": [
      "\n",
      "Улитка\n",
      "Бабочки\n",
      "Гусеницы\n",
      "Пчёлы\n",
      "Пчёлы\n",
      "Божьи коровки\n",
      "Пауки\n",
      "Гусеницы\n",
      "Бабочки\n",
      "Кузнечики\n"
     ]
    }
   ],
   "source": [
    "for animal in train:\n",
    "    print(animal)"
   ]
  },
  {
   "cell_type": "markdown",
   "id": "c2f242c2",
   "metadata": {},
   "source": [
    "## Что такое методы?\n",
    "Методы - это функции привязанные к типу данных. Каждый тип данных в Python имеет свои собственные методы. Отличие метода от функции в том, что метод вызвается из объекта и может работать с ним, не получая его как аргумент. Для того, чтобы вызвать метод нобходимо написать: название_объекта.название_метода(необходимые_аргументы). Точка в Python служит указателем того, что нужно перейти внутрь какой-то конструкции и искать там. Аналогом этой точки в обычном мире является запятая при написании адреса.\n",
    "\n",
    "## Методы и функции по работе со списками\n",
    "Для управления элементами списки имеют целый ряд методов. Некоторые из них:\n",
    "\n",
    "* append(item): добавляет элемент item в конец списка\n",
    "\n",
    "* insert(index, item): добавляет элемент item в список по индексу index\n",
    "\n",
    "* extend(items): добавляет набор элементов items в конец списка\n",
    "\n",
    "* remove(item): удаляет элемент item. Удаляется только первое вхождение элемента. Если элемент не найден, генерирует исключение ValueError\n",
    "\n",
    "* clear(): удаление всех элементов из списка\n",
    "\n",
    "* index(item): возвращает индекс элемента item. Если элемент не найден, генерирует исключение ValueError\n",
    "\n",
    "* pop([index]): удаляет и возвращает элемент по индексу index. Если индекс не передан, то просто удаляет последний элемент.\n",
    "\n",
    "* count(item): возвращает количество вхождений элемента item в список\n",
    "\n",
    "* sort([key]): сортирует элементы. По умолчанию сортирует по возрастанию. Но с помощью параметра key мы можем передать функцию сортировки.\n",
    "\n",
    "* reverse(): расставляет все элементы в списке в обратном порядке\n",
    "\n",
    "* copy(): копирует список\n",
    "\n",
    "## Кроме того, Python предоставляет ряд встроенных функций для работы со списками:\n",
    "\n",
    "* len(list): возвращает длину списка\n",
    "\n",
    "* sorted(list, [key]): возвращает отсортированный список\n",
    "\n",
    "* min(list): возвращает наименьший элемент списка\n",
    "\n",
    "* max(list): возвращает наибольший элемент списка\n",
    "\n",
    "* sorted(list): возвращает отсортированный список"
   ]
  },
  {
   "cell_type": "code",
   "execution_count": 33,
   "id": "0d100613",
   "metadata": {},
   "outputs": [
    {
     "name": "stdout",
     "output_type": "stream",
     "text": [
      "['', 'Улитка', 'Бабочки', 'Гусеницы', 'Пчёлы', 'Пчёлы', 'Божьи коровки', 'Пауки', 'Гусеницы', 'Бабочки', 'Кузнечики', 'Люди', 'Люди']\n"
     ]
    }
   ],
   "source": [
    "train.append(\"Люди\")\n",
    "print(train)"
   ]
  },
  {
   "cell_type": "code",
   "execution_count": 34,
   "id": "0d4a641f",
   "metadata": {},
   "outputs": [
    {
     "name": "stdout",
     "output_type": "stream",
     "text": [
      "1\n"
     ]
    }
   ],
   "source": [
    "print(train.index(\"Улитка\"))"
   ]
  },
  {
   "cell_type": "markdown",
   "id": "2e3cb46f",
   "metadata": {},
   "source": [
    " "
   ]
  },
  {
   "cell_type": "markdown",
   "id": "97ab0cfa",
   "metadata": {},
   "source": [
    " "
   ]
  },
  {
   "cell_type": "markdown",
   "id": "3876df9a",
   "metadata": {},
   "source": [
    " "
   ]
  },
  {
   "cell_type": "markdown",
   "id": "6bd8a5e4",
   "metadata": {},
   "source": [
    " "
   ]
  },
  {
   "cell_type": "markdown",
   "id": "b5db5090",
   "metadata": {},
   "source": [
    " "
   ]
  },
  {
   "cell_type": "markdown",
   "id": "7ee4d776",
   "metadata": {},
   "source": [
    " "
   ]
  },
  {
   "cell_type": "markdown",
   "id": "8de4ea15",
   "metadata": {},
   "source": [
    "  ![snake](images/snake.png)"
   ]
  },
  {
   "cell_type": "markdown",
   "id": "3981a25d",
   "metadata": {},
   "source": [
    " "
   ]
  },
  {
   "cell_type": "markdown",
   "id": "337e6bbe",
   "metadata": {},
   "source": [
    " "
   ]
  },
  {
   "cell_type": "markdown",
   "id": "8679b767",
   "metadata": {},
   "source": [
    " "
   ]
  },
  {
   "cell_type": "markdown",
   "id": "2e10f259",
   "metadata": {},
   "source": [
    " "
   ]
  },
  {
   "cell_type": "markdown",
   "id": "8be033d8",
   "metadata": {},
   "source": [
    " "
   ]
  },
  {
   "cell_type": "markdown",
   "id": "2fc1afe5",
   "metadata": {},
   "source": [
    " # Строки"
   ]
  },
  {
   "cell_type": "markdown",
   "id": "a0178a3b",
   "metadata": {},
   "source": [
    "## Управляющие последовательности в строке\n",
    "Строка может содержать ряд специальных символов - управляющих последовательностей или escape-последовательности. Некоторые из них:\n",
    "\n",
    "* \\\\: позволяет добавить внутрь строки слеш (Обратите на это внимание, когда будете писать путь к файлу)\n",
    "\n",
    "* \\': позволяет добавить внутрь строки одинарную кавычку\n",
    "\n",
    "* \\\": позволяет добавить внутрь строки двойную кавычку\n",
    "\n",
    "* \\n: осуществляет переход на новую строку\n",
    "\n",
    "* \\t: добавляет табуляцию (4 отступа)\n",
    "\n",
    "Используем некоторые последовательностей:"
   ]
  },
  {
   "cell_type": "code",
   "execution_count": 42,
   "id": "2b0c2c69",
   "metadata": {},
   "outputs": [
    {
     "name": "stdout",
     "output_type": "stream",
     "text": [
      "Message:\n",
      "\"Hello World\"\n"
     ]
    }
   ],
   "source": [
    "text = \"Message:\\n\\\"Hello World\\\"\"\n",
    "print(text)"
   ]
  },
  {
   "cell_type": "code",
   "execution_count": 43,
   "id": "e7bdd874",
   "metadata": {
    "scrolled": true
   },
   "outputs": [
    {
     "name": "stdout",
     "output_type": "stream",
     "text": [
      "C:\\python\n",
      "ame.txt\n"
     ]
    }
   ],
   "source": [
    "path = \"C:\\python\\name.txt\"\n",
    "print(path)"
   ]
  },
  {
   "cell_type": "markdown",
   "id": "c3badac7",
   "metadata": {},
   "source": [
    "## Форматирование строк"
   ]
  },
  {
   "cell_type": "code",
   "execution_count": 44,
   "id": "1b93294a",
   "metadata": {},
   "outputs": [
    {
     "name": "stdout",
     "output_type": "stream",
     "text": [
      "name: Tom  age: 37\n"
     ]
    }
   ],
   "source": [
    "userName = \"Tom\"\n",
    "userAge = 37\n",
    "user = f\"name: {userName}  age: {userAge}\"\n",
    "print(user)   # name: Tom  age: 37"
   ]
  },
  {
   "cell_type": "markdown",
   "id": "cd399f77",
   "metadata": {},
   "source": [
    "## Обращение к символам строки\n",
    "Мы можем обратиться к отдельным символам строки по индексу в квадратных скобках:"
   ]
  },
  {
   "cell_type": "code",
   "execution_count": 45,
   "id": "424ede00",
   "metadata": {},
   "outputs": [
    {
     "name": "stdout",
     "output_type": "stream",
     "text": [
      "h\n",
      "w\n"
     ]
    },
    {
     "ename": "IndexError",
     "evalue": "string index out of range",
     "output_type": "error",
     "traceback": [
      "\u001b[1;31m---------------------------------------------------------------------------\u001b[0m",
      "\u001b[1;31mIndexError\u001b[0m                                Traceback (most recent call last)",
      "\u001b[1;32m<ipython-input-45-c46e69deef10>\u001b[0m in \u001b[0;36m<module>\u001b[1;34m\u001b[0m\n\u001b[0;32m      5\u001b[0m \u001b[0mprint\u001b[0m\u001b[1;33m(\u001b[0m\u001b[0mc6\u001b[0m\u001b[1;33m)\u001b[0m\u001b[1;33m\u001b[0m\u001b[1;33m\u001b[0m\u001b[0m\n\u001b[0;32m      6\u001b[0m \u001b[1;33m\u001b[0m\u001b[0m\n\u001b[1;32m----> 7\u001b[1;33m \u001b[0mc11\u001b[0m \u001b[1;33m=\u001b[0m \u001b[0mstring\u001b[0m\u001b[1;33m[\u001b[0m\u001b[1;36m11\u001b[0m\u001b[1;33m]\u001b[0m  \u001b[1;31m# ошибка IndexError: string index out of range\u001b[0m\u001b[1;33m\u001b[0m\u001b[1;33m\u001b[0m\u001b[0m\n\u001b[0m\u001b[0;32m      8\u001b[0m \u001b[0mprint\u001b[0m\u001b[1;33m(\u001b[0m\u001b[0mc11\u001b[0m\u001b[1;33m)\u001b[0m\u001b[1;33m\u001b[0m\u001b[1;33m\u001b[0m\u001b[0m\n",
      "\u001b[1;31mIndexError\u001b[0m: string index out of range"
     ]
    }
   ],
   "source": [
    "string = \"hello world\"\n",
    "c0 = string[0]  # h\n",
    "print(c0)\n",
    "c6 = string[6]  # w\n",
    "print(c6)\n",
    " \n",
    "c11 = string[11]  # ошибка IndexError: string index out of range\n",
    "print(c11)## Обращение к символам строки\n",
    "Мы можем обратиться к отдельным символам строки по индексу в квадратных скобках:"
   ]
  },
  {
   "cell_type": "markdown",
   "id": "2da61b41",
   "metadata": {},
   "source": [
    "## Задача\n",
    "### Написать программу, которая получает строку на вход и возвращает True, если строка - Палиндром, или False, если нет.\n",
    "### (Палиндромы - слова, которые одинаково читаются слева направо и справа налево.\n",
    "### Примеры палиндромов: 上海自来水来自海上, шалаш"
   ]
  },
  {
   "cell_type": "code",
   "execution_count": null,
   "id": "314088ca",
   "metadata": {},
   "outputs": [],
   "source": []
  },
  {
   "cell_type": "markdown",
   "id": "deba59e4",
   "metadata": {},
   "source": [
    " "
   ]
  },
  {
   "cell_type": "markdown",
   "id": "368a9e92",
   "metadata": {},
   "source": [
    " "
   ]
  },
  {
   "cell_type": "markdown",
   "id": "30d7554e",
   "metadata": {},
   "source": [
    " "
   ]
  },
  {
   "cell_type": "markdown",
   "id": "59b6dc41",
   "metadata": {},
   "source": [
    " "
   ]
  },
  {
   "cell_type": "markdown",
   "id": "2feb5ef5",
   "metadata": {},
   "source": [
    " "
   ]
  },
  {
   "cell_type": "markdown",
   "id": "255ffd54",
   "metadata": {},
   "source": [
    " "
   ]
  },
  {
   "cell_type": "markdown",
   "id": "ab86ca89",
   "metadata": {},
   "source": [
    " "
   ]
  },
  {
   "cell_type": "markdown",
   "id": "5a7e4f9d",
   "metadata": {},
   "source": [
    " "
   ]
  },
  {
   "cell_type": "markdown",
   "id": "27bbdcc5",
   "metadata": {},
   "source": [
    " "
   ]
  },
  {
   "cell_type": "markdown",
   "id": "5a96f1ab",
   "metadata": {},
   "source": [
    " "
   ]
  },
  {
   "cell_type": "markdown",
   "id": "590610ed",
   "metadata": {},
   "source": [
    "   ![snake](images/snake.png)"
   ]
  },
  {
   "cell_type": "markdown",
   "id": "86213f76",
   "metadata": {},
   "source": [
    " "
   ]
  },
  {
   "cell_type": "markdown",
   "id": "4e67de84",
   "metadata": {},
   "source": [
    " "
   ]
  },
  {
   "cell_type": "markdown",
   "id": "20c393c9",
   "metadata": {},
   "source": [
    " "
   ]
  },
  {
   "cell_type": "markdown",
   "id": "a5ab110b",
   "metadata": {},
   "source": [
    " "
   ]
  },
  {
   "cell_type": "markdown",
   "id": "9744c252",
   "metadata": {},
   "source": [
    " "
   ]
  },
  {
   "cell_type": "markdown",
   "id": "2d2ed021",
   "metadata": {},
   "source": [
    " "
   ]
  },
  {
   "cell_type": "markdown",
   "id": "6b699711",
   "metadata": {},
   "source": [
    " "
   ]
  },
  {
   "cell_type": "markdown",
   "id": "464cf181",
   "metadata": {},
   "source": [
    " "
   ]
  },
  {
   "cell_type": "markdown",
   "id": "01b52788",
   "metadata": {},
   "source": [
    " "
   ]
  },
  {
   "cell_type": "markdown",
   "id": "6ef00d40",
   "metadata": {},
   "source": [
    "# Функции"
   ]
  },
  {
   "cell_type": "markdown",
   "id": "692f3468",
   "metadata": {},
   "source": [
    "# 15. Функции\n",
    "При разработке ПО зачастую возникаеют блоки кода, которые приходится использовать множество раз. Такие блоки могу решать задачи, которые часто появляются при работе программы. Для того чтобы не переписывать эти блоки много раз были созданы функции. Функции это своего рода переменные, но они хранят не данные, а набор инструкций.\n",
    "\n",
    "## Объявление функций:\n",
    "Для объявления фунции используется ключевое слово def, далее записывается название функции(всегда с маленькой буквы) скобки и двоеточие. Следующими строками с отступом записывается код, который должна выполнять функция."
   ]
  },
  {
   "cell_type": "code",
   "execution_count": 36,
   "id": "52132280",
   "metadata": {},
   "outputs": [],
   "source": [
    "def say_hello():\n",
    "    print('Привет')"
   ]
  },
  {
   "cell_type": "markdown",
   "id": "43c62b26",
   "metadata": {},
   "source": [
    "## Вызов функции\n",
    "Для вызова функции достаточно обратиться к ней по имени и поставить скобки"
   ]
  },
  {
   "cell_type": "code",
   "execution_count": 37,
   "id": "2c4542d5",
   "metadata": {},
   "outputs": [
    {
     "name": "stdout",
     "output_type": "stream",
     "text": [
      "Привет\n"
     ]
    }
   ],
   "source": [
    "say_hello()"
   ]
  },
  {
   "cell_type": "markdown",
   "id": "9bb523e1",
   "metadata": {},
   "source": [
    "## Аргументы\n",
    "При объявлении функции мы можем передать аргументы, которые функция должна использовать"
   ]
  },
  {
   "cell_type": "markdown",
   "id": "e82c1e6f",
   "metadata": {},
   "source": [
    "## Вызов функции с аргументами\n",
    "При вызове функции с аргументами мы обязаны передать в скобках столько аргументов, сколько записано при объявлении функции. Аргументы должны передаваться по порядку, то есть в данном случае функция принимает один аргумент и подставляет его вместо name."
   ]
  },
  {
   "cell_type": "code",
   "execution_count": 26,
   "id": "e7120f68",
   "metadata": {},
   "outputs": [],
   "source": [
    "def say_hello_to(name):\n",
    "    print(\"Привет,\", name)"
   ]
  },
  {
   "cell_type": "code",
   "execution_count": 27,
   "id": "b42a537d",
   "metadata": {},
   "outputs": [
    {
     "name": "stdout",
     "output_type": "stream",
     "text": [
      "Привет, Пекин\n"
     ]
    }
   ],
   "source": [
    "say_hello_to(\"Пекин\")"
   ]
  },
  {
   "cell_type": "markdown",
   "id": "e7967656",
   "metadata": {},
   "source": [
    "## Функции с возвратом\n",
    "Для того, чтобы функция возвращала какой-то резульат, в ней должен быть определён оператор return. Оператор return осуществляет выход из функции и строки, которые идут за ним не выполняются, поэтому он, как правило, пишется в конце функции."
   ]
  },
  {
   "cell_type": "code",
   "execution_count": 40,
   "id": "d0522980",
   "metadata": {},
   "outputs": [],
   "source": [
    "def calculate_area_of_rectangle(a, b):\n",
    "    area = a * b\n",
    "    return area"
   ]
  },
  {
   "cell_type": "code",
   "execution_count": 41,
   "id": "dffe5d87",
   "metadata": {},
   "outputs": [],
   "source": [
    "area = calculate_area_of_rectangle(5, 7)"
   ]
  },
  {
   "cell_type": "markdown",
   "id": "d738273e",
   "metadata": {},
   "source": [
    "## Задача\n",
    "Записать решение предыдущих задач в виде функций"
   ]
  },
  {
   "cell_type": "code",
   "execution_count": null,
   "id": "b6419a55-f3e5-4743-94f7-86fed0ebdbd6",
   "metadata": {},
   "outputs": [],
   "source": []
  },
  {
   "cell_type": "markdown",
   "id": "5906dc89-88af-434f-a321-c3f02992f6a9",
   "metadata": {},
   "source": [
    "   ![snake](images/snake.png)"
   ]
  },
  {
   "cell_type": "markdown",
   "id": "4a27497b-e899-4751-aba9-e5da04e1589d",
   "metadata": {},
   "source": [
    "# Подключение библиотек\n",
    "## Библиотека - набор готовых функций, которые вы можете использовать в своих проектах.\n",
    "## В Python большое количество встроенных библиотек и библиотек, разрабатываемых сообществом.\n",
    "## Для подключения библиотек служит команда import"
   ]
  },
  {
   "cell_type": "code",
   "execution_count": 34,
   "id": "f0d1a31c-5cd3-46fa-b047-b9305577a143",
   "metadata": {},
   "outputs": [],
   "source": [
    "import random"
   ]
  },
  {
   "cell_type": "markdown",
   "id": "ff46823c-1919-4073-ab8f-ecc36eb426ee",
   "metadata": {},
   "source": [
    "## Для того чтобы изменить имя библиотеки в вашей программе используется конструкция import ... as ..."
   ]
  },
  {
   "cell_type": "code",
   "execution_count": 35,
   "id": "59576727-0b33-4efa-86bc-8b5d8a934054",
   "metadata": {},
   "outputs": [],
   "source": [
    "import random as rd"
   ]
  },
  {
   "cell_type": "markdown",
   "id": "2079a407-5c70-4afc-b33b-1bc3c58fd236",
   "metadata": {},
   "source": [
    "## Чтобы подключить конкретную функцию, а не всю библиотеку целиком используется конструкция from ... import ..."
   ]
  },
  {
   "cell_type": "code",
   "execution_count": 40,
   "id": "4aaba32e-48b5-41f6-abd9-300e320d1c7c",
   "metadata": {},
   "outputs": [
    {
     "name": "stdout",
     "output_type": "stream",
     "text": [
      "6\n"
     ]
    }
   ],
   "source": [
    "from random import randint\n",
    "print(randint(0, 10))"
   ]
  },
  {
   "cell_type": "markdown",
   "id": "f192199e-d4d7-4d95-b6cd-e70e765520ed",
   "metadata": {},
   "source": [
    "   ![snake](images/snake.png)"
   ]
  },
  {
   "cell_type": "markdown",
   "id": "644e004c-0b15-43d9-a873-57320fbb83e9",
   "metadata": {},
   "source": [
    "# Правила хорошего тона в программировании \n",
    "## Именование"
   ]
  },
  {
   "cell_type": "markdown",
   "id": "3984c66f",
   "metadata": {},
   "source": [
    "Основной принцип хорошего именования — имена должны быть содержательными (полностью отражать своё назначение). Перед тем, как дать имя переменной, функции или классу, ответьте на вопросы:\n",
    "* Почему эта переменная (функция, класс и т.п.) существует?\n",
    "* Что она делает? (или какие данные в ней хранятся?)\n",
    "* Как используется?\n",
    "## Выбор стиля именования\n",
    "![quastion](images/naming.png)"
   ]
  },
  {
   "cell_type": "markdown",
   "id": "8fc5fa9a",
   "metadata": {},
   "source": [
    "## 👎 Пример плохого именования:"
   ]
  },
  {
   "cell_type": "code",
   "execution_count": 9,
   "id": "b59f1237",
   "metadata": {},
   "outputs": [],
   "source": [
    "a = \"Beijing\" #Не несет никакой смысловой нагрузки"
   ]
  },
  {
   "cell_type": "markdown",
   "id": "65177450",
   "metadata": {},
   "source": [
    "\n",
    "\n",
    "## 👍 Пример хорошего именования:"
   ]
  },
  {
   "cell_type": "code",
   "execution_count": 10,
   "id": "1374f96c",
   "metadata": {},
   "outputs": [],
   "source": [
    "capital_of_china = \"Beijing\"   #lower_with_under Имя переменной указывает на то, что в ней находится"
   ]
  },
  {
   "cell_type": "markdown",
   "id": "119f7c28-1f85-45ce-bade-1f08e59a67e5",
   "metadata": {},
   "source": [
    "# Пробелы\n",
    "* Всегда окружайте эти бинарные операторы одним пробелом с каждой стороны: присваивания (=, +=, -= и другие), сравнения (==, <, >, !=, <>, <=, >=, in, not in, is, is not), логические (and, or, not).\r\n",
    "* \r\n",
    "Если используются операторы с разными приоритетами, попробуйте добавить пробелы вокруг операторов с самым низким приоритетом. Используйте св с собственные суждения, однако, никогда не используйте более одного пробела, и всегда используйте одинаковое количество пробелов по обе сторо ы бинарного оператора."
   ]
  },
  {
   "cell_type": "markdown",
   "id": "1cc56f92-76a3-49b1-80c4-4dc57cc8c7af",
   "metadata": {},
   "source": [
    "# 👍"
   ]
  },
  {
   "cell_type": "code",
   "execution_count": 23,
   "id": "33655e58-0bb0-4f95-9fb0-b81340060d48",
   "metadata": {},
   "outputs": [],
   "source": [
    "i = 1\n",
    "i += 1\n",
    "x = 4 - 1\n",
    "y = 5*1 + 0\n",
    "hypot2 = x*x + y*y\n",
    "c = (x+y) * (x-y)"
   ]
  },
  {
   "cell_type": "markdown",
   "id": "23fa78a7-8765-4003-856e-039e447349ff",
   "metadata": {},
   "source": [
    "# 👎"
   ]
  },
  {
   "cell_type": "code",
   "execution_count": 24,
   "id": "bcdc68ec-052e-4c3f-a775-efaeb615c982",
   "metadata": {},
   "outputs": [],
   "source": [
    "i=1\n",
    "i +=1\n",
    "x = 4-1\n",
    "y = 5 * 1 + 0\n",
    "hypot2 = x * x + y * y\n",
    "c = ( x + y ) * ( x - y )"
   ]
  },
  {
   "cell_type": "markdown",
   "id": "ca9977cf",
   "metadata": {},
   "source": [
    "## Комментарии\n",
    "![quastion](images/hashtag_snake.png)\n",
    "## Комментарий — это текст, который предназначен для программистов и не обрабатывается компилятором. Обычно комментарии используются для создания заметок к коду для дальнейшего использования."
   ]
  },
  {
   "cell_type": "code",
   "execution_count": 16,
   "id": "798022b6",
   "metadata": {},
   "outputs": [],
   "source": [
    "# Это комментарий, он идёт после знака \"Решетка\" и не воспринимается как часть программы"
   ]
  },
  {
   "attachments": {},
   "cell_type": "markdown",
   "id": "28786428-4fe8-40d7-a033-4c0f1aaf1d95",
   "metadata": {},
   "source": [
    "# Отступы\r",
    "## Используйте 4 пробела на каждый уровень отступа..\r",
    "## Продолжительные строки должны выравнивать обернутые элементы либо вертикально, используя неявную линию в скобках (круглых, квадратных или фигурных), либо с использованием висячего отступа. При использовании висячего отступа следует применять следующие соображения: на первой линии не должно быть аргументов, а остальные строки должны четко восприниматься как продолжение линии.ии.\n",
    "\n",
    "# 👍"
   ]
  },
  {
   "cell_type": "markdown",
   "id": "96072d54-c0e2-4790-bc20-7697aded7526",
   "metadata": {},
   "source": [
    "# 👎"
   ]
  },
  {
   "cell_type": "code",
   "execution_count": 31,
   "id": "c8cc6b76-3c62-420b-8415-d33eb72b3203",
   "metadata": {},
   "outputs": [
    {
     "ename": "NameError",
     "evalue": "name 'var_one' is not defined",
     "output_type": "error",
     "traceback": [
      "\u001b[1;31m---------------------------------------------------------------------------\u001b[0m",
      "\u001b[1;31mNameError\u001b[0m                                 Traceback (most recent call last)",
      "Cell \u001b[1;32mIn[31], line 2\u001b[0m\n\u001b[0;32m      1\u001b[0m \u001b[38;5;66;03m# Выровнено по открывающему разделителю\u001b[39;00m\n\u001b[1;32m----> 2\u001b[0m foo \u001b[38;5;241m=\u001b[39m long_function_name(\u001b[43mvar_one\u001b[49m, var_two,\n\u001b[0;32m      3\u001b[0m                          var_three, var_four)\n\u001b[0;32m      5\u001b[0m \u001b[38;5;66;03m# Больше отступов включено для отличения его от остальных\u001b[39;00m\n\u001b[0;32m      6\u001b[0m \u001b[38;5;28;01mdef\u001b[39;00m \u001b[38;5;21mlong_function_name\u001b[39m(\n\u001b[0;32m      7\u001b[0m         var_one, var_two, var_three,\n\u001b[0;32m      8\u001b[0m         var_four):\n",
      "\u001b[1;31mNameError\u001b[0m: name 'var_one' is not defined"
     ]
    }
   ],
   "source": [
    "# Выровнено по открывающему разделителю\n",
    "foo = long_function_name(var_one, var_two,\n",
    "                         var_three, var_four)\n",
    "\n",
    "# Больше отступов включено для отличения его от остальных\n",
    "def long_function_name(\n",
    "        var_one, var_two, var_three,\n",
    "        var_four):\n",
    "    print(var_one)"
   ]
  },
  {
   "cell_type": "code",
   "execution_count": 30,
   "id": "0795581e-0b13-4585-a248-5cd308c7b084",
   "metadata": {
    "scrolled": true
   },
   "outputs": [
    {
     "ename": "NameError",
     "evalue": "name 'var_one' is not defined",
     "output_type": "error",
     "traceback": [
      "\u001b[1;31m---------------------------------------------------------------------------\u001b[0m",
      "\u001b[1;31mNameError\u001b[0m                                 Traceback (most recent call last)",
      "Cell \u001b[1;32mIn[30], line 2\u001b[0m\n\u001b[0;32m      1\u001b[0m \u001b[38;5;66;03m# Аргументы на первой линии запрещены, если не используется вертикальное выравнивание\u001b[39;00m\n\u001b[1;32m----> 2\u001b[0m foo \u001b[38;5;241m=\u001b[39m long_function_name(\u001b[43mvar_one\u001b[49m, var_two,\n\u001b[0;32m      3\u001b[0m     var_three, var_four)\n\u001b[0;32m      5\u001b[0m \u001b[38;5;66;03m# Больше отступов требуется, для отличения его от остальных\u001b[39;00m\n\u001b[0;32m      6\u001b[0m \u001b[38;5;28;01mdef\u001b[39;00m \u001b[38;5;21mlong_function_name\u001b[39m(\n\u001b[0;32m      7\u001b[0m     var_one, var_two, var_three,\n\u001b[0;32m      8\u001b[0m     var_four):\n",
      "\u001b[1;31mNameError\u001b[0m: name 'var_one' is not defined"
     ]
    }
   ],
   "source": [
    "# Аргументы на первой линии запрещены, если не используется вертикальное выравнивание\n",
    "foo = long_function_name(var_one, var_two,\n",
    "    var_three, var_four)\n",
    "\n",
    "# Больше отступов требуется, для отличения его от остальных\n",
    "def long_function_name(\n",
    "    var_one, var_two, var_three,\n",
    "    var_four):\n",
    "    print(var_one)"
   ]
  },
  {
   "cell_type": "markdown",
   "id": "9fa9b5f5-5b1a-4bde-934a-6bb09e5f6b4d",
   "metadata": {},
   "source": [
    "# Максимальная длина строки\n",
    "## Ограничьте длину строки максимум 79 символами.."
   ]
  },
  {
   "cell_type": "markdown",
   "id": "390a110f-a327-4967-8216-2f5093b902e5",
   "metadata": {},
   "source": [
    "# Пустые строки\n",
    "## Отделяйте функции и другие логические разделы кода пустыми строками"
   ]
  },
  {
   "cell_type": "code",
   "execution_count": 32,
   "id": "3b2c73e7-8d0f-455a-b364-4a7225a6829b",
   "metadata": {},
   "outputs": [],
   "source": [
    "def say_hello():\n",
    "    print(\"Привет\")\n",
    "\n",
    "def say_hello_to(name):\n",
    "    print(\"Привет\", name)"
   ]
  }
 ],
 "metadata": {
  "kernelspec": {
   "display_name": "Python 3 (ipykernel)",
   "language": "python",
   "name": "python3"
  },
  "language_info": {
   "codemirror_mode": {
    "name": "ipython",
    "version": 3
   },
   "file_extension": ".py",
   "mimetype": "text/x-python",
   "name": "python",
   "nbconvert_exporter": "python",
   "pygments_lexer": "ipython3",
   "version": "3.10.8"
  }
 },
 "nbformat": 4,
 "nbformat_minor": 5
}
